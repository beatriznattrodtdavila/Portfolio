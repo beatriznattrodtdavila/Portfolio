{
  "nbformat": 4,
  "nbformat_minor": 0,
  "metadata": {
    "colab": {
      "provenance": []
    },
    "kernelspec": {
      "name": "python3",
      "display_name": "Python 3"
    },
    "language_info": {
      "name": "python"
    }
  },
  "cells": [
    {
      "cell_type": "code",
      "execution_count": 1,
      "metadata": {
        "id": "xDL_v_09w7mP"
      },
      "outputs": [],
      "source": [
        "import pandas as pd\n",
        "import re"
      ]
    },
    {
      "cell_type": "markdown",
      "source": [
        "# **Importando dados**"
      ],
      "metadata": {
        "id": "sHLu_J0Z8vZ-"
      }
    },
    {
      "cell_type": "code",
      "source": [
        "dados_portugues = pd.read_csv(\"stackoverflow_portugues.csv\")\n",
        "dados_portugues.head()"
      ],
      "metadata": {
        "colab": {
          "base_uri": "https://localhost:8080/",
          "height": 458
        },
        "id": "fJP49SsKxoD2",
        "outputId": "a883ece6-1fb5-4baf-a88e-8523f9a861e7"
      },
      "execution_count": 2,
      "outputs": [
        {
          "output_type": "execute_result",
          "data": {
            "text/plain": [
              "      Id                                             Título  \\\n",
              "0   2402         Como fazer hash de senhas de forma segura?   \n",
              "1   6441  Qual é a diferença entre INNER JOIN e OUTER JOIN?   \n",
              "2    579  Por que não devemos usar funções do tipo mysql_*?   \n",
              "3   2539           As mensagens de erro devem se desculpar?   \n",
              "4  17501  Qual é a diferença de API, biblioteca e Framew...   \n",
              "\n",
              "                                             Questão  \\\n",
              "0  <p>Se eu fizer o <em><a href=\"http://pt.wikipe...   \n",
              "1  <p>Qual é a diferença entre <code>INNER JOIN</...   \n",
              "2  <p>Uma dúvida muito comum é por que devemos pa...   \n",
              "3  <p>É comum encontrar uma mensagem de erro que ...   \n",
              "4  <p>Me parecem termos muito próximos e eventual...   \n",
              "\n",
              "                                         Tags  Pontuação  Visualizações  \n",
              "0     <hash><segurança><senhas><criptografia>        350          22367  \n",
              "1                                 <sql><join>        276         176953  \n",
              "2                                <php><mysql>        226           9761  \n",
              "3           <aplicação-web><gui><console><ux>        214           5075  \n",
              "4  <api><framework><terminologia><biblioteca>        193          54191  "
            ],
            "text/html": [
              "\n",
              "  <div id=\"df-3660b41f-e2f0-46cd-863a-429da3839247\">\n",
              "    <div class=\"colab-df-container\">\n",
              "      <div>\n",
              "<style scoped>\n",
              "    .dataframe tbody tr th:only-of-type {\n",
              "        vertical-align: middle;\n",
              "    }\n",
              "\n",
              "    .dataframe tbody tr th {\n",
              "        vertical-align: top;\n",
              "    }\n",
              "\n",
              "    .dataframe thead th {\n",
              "        text-align: right;\n",
              "    }\n",
              "</style>\n",
              "<table border=\"1\" class=\"dataframe\">\n",
              "  <thead>\n",
              "    <tr style=\"text-align: right;\">\n",
              "      <th></th>\n",
              "      <th>Id</th>\n",
              "      <th>Título</th>\n",
              "      <th>Questão</th>\n",
              "      <th>Tags</th>\n",
              "      <th>Pontuação</th>\n",
              "      <th>Visualizações</th>\n",
              "    </tr>\n",
              "  </thead>\n",
              "  <tbody>\n",
              "    <tr>\n",
              "      <th>0</th>\n",
              "      <td>2402</td>\n",
              "      <td>Como fazer hash de senhas de forma segura?</td>\n",
              "      <td>&lt;p&gt;Se eu fizer o &lt;em&gt;&lt;a href=\"http://pt.wikipe...</td>\n",
              "      <td>&lt;hash&gt;&lt;segurança&gt;&lt;senhas&gt;&lt;criptografia&gt;</td>\n",
              "      <td>350</td>\n",
              "      <td>22367</td>\n",
              "    </tr>\n",
              "    <tr>\n",
              "      <th>1</th>\n",
              "      <td>6441</td>\n",
              "      <td>Qual é a diferença entre INNER JOIN e OUTER JOIN?</td>\n",
              "      <td>&lt;p&gt;Qual é a diferença entre &lt;code&gt;INNER JOIN&lt;/...</td>\n",
              "      <td>&lt;sql&gt;&lt;join&gt;</td>\n",
              "      <td>276</td>\n",
              "      <td>176953</td>\n",
              "    </tr>\n",
              "    <tr>\n",
              "      <th>2</th>\n",
              "      <td>579</td>\n",
              "      <td>Por que não devemos usar funções do tipo mysql_*?</td>\n",
              "      <td>&lt;p&gt;Uma dúvida muito comum é por que devemos pa...</td>\n",
              "      <td>&lt;php&gt;&lt;mysql&gt;</td>\n",
              "      <td>226</td>\n",
              "      <td>9761</td>\n",
              "    </tr>\n",
              "    <tr>\n",
              "      <th>3</th>\n",
              "      <td>2539</td>\n",
              "      <td>As mensagens de erro devem se desculpar?</td>\n",
              "      <td>&lt;p&gt;É comum encontrar uma mensagem de erro que ...</td>\n",
              "      <td>&lt;aplicação-web&gt;&lt;gui&gt;&lt;console&gt;&lt;ux&gt;</td>\n",
              "      <td>214</td>\n",
              "      <td>5075</td>\n",
              "    </tr>\n",
              "    <tr>\n",
              "      <th>4</th>\n",
              "      <td>17501</td>\n",
              "      <td>Qual é a diferença de API, biblioteca e Framew...</td>\n",
              "      <td>&lt;p&gt;Me parecem termos muito próximos e eventual...</td>\n",
              "      <td>&lt;api&gt;&lt;framework&gt;&lt;terminologia&gt;&lt;biblioteca&gt;</td>\n",
              "      <td>193</td>\n",
              "      <td>54191</td>\n",
              "    </tr>\n",
              "  </tbody>\n",
              "</table>\n",
              "</div>\n",
              "      <button class=\"colab-df-convert\" onclick=\"convertToInteractive('df-3660b41f-e2f0-46cd-863a-429da3839247')\"\n",
              "              title=\"Convert this dataframe to an interactive table.\"\n",
              "              style=\"display:none;\">\n",
              "        \n",
              "  <svg xmlns=\"http://www.w3.org/2000/svg\" height=\"24px\"viewBox=\"0 0 24 24\"\n",
              "       width=\"24px\">\n",
              "    <path d=\"M0 0h24v24H0V0z\" fill=\"none\"/>\n",
              "    <path d=\"M18.56 5.44l.94 2.06.94-2.06 2.06-.94-2.06-.94-.94-2.06-.94 2.06-2.06.94zm-11 1L8.5 8.5l.94-2.06 2.06-.94-2.06-.94L8.5 2.5l-.94 2.06-2.06.94zm10 10l.94 2.06.94-2.06 2.06-.94-2.06-.94-.94-2.06-.94 2.06-2.06.94z\"/><path d=\"M17.41 7.96l-1.37-1.37c-.4-.4-.92-.59-1.43-.59-.52 0-1.04.2-1.43.59L10.3 9.45l-7.72 7.72c-.78.78-.78 2.05 0 2.83L4 21.41c.39.39.9.59 1.41.59.51 0 1.02-.2 1.41-.59l7.78-7.78 2.81-2.81c.8-.78.8-2.07 0-2.86zM5.41 20L4 18.59l7.72-7.72 1.47 1.35L5.41 20z\"/>\n",
              "  </svg>\n",
              "      </button>\n",
              "      \n",
              "  <style>\n",
              "    .colab-df-container {\n",
              "      display:flex;\n",
              "      flex-wrap:wrap;\n",
              "      gap: 12px;\n",
              "    }\n",
              "\n",
              "    .colab-df-convert {\n",
              "      background-color: #E8F0FE;\n",
              "      border: none;\n",
              "      border-radius: 50%;\n",
              "      cursor: pointer;\n",
              "      display: none;\n",
              "      fill: #1967D2;\n",
              "      height: 32px;\n",
              "      padding: 0 0 0 0;\n",
              "      width: 32px;\n",
              "    }\n",
              "\n",
              "    .colab-df-convert:hover {\n",
              "      background-color: #E2EBFA;\n",
              "      box-shadow: 0px 1px 2px rgba(60, 64, 67, 0.3), 0px 1px 3px 1px rgba(60, 64, 67, 0.15);\n",
              "      fill: #174EA6;\n",
              "    }\n",
              "\n",
              "    [theme=dark] .colab-df-convert {\n",
              "      background-color: #3B4455;\n",
              "      fill: #D2E3FC;\n",
              "    }\n",
              "\n",
              "    [theme=dark] .colab-df-convert:hover {\n",
              "      background-color: #434B5C;\n",
              "      box-shadow: 0px 1px 3px 1px rgba(0, 0, 0, 0.15);\n",
              "      filter: drop-shadow(0px 1px 2px rgba(0, 0, 0, 0.3));\n",
              "      fill: #FFFFFF;\n",
              "    }\n",
              "  </style>\n",
              "\n",
              "      <script>\n",
              "        const buttonEl =\n",
              "          document.querySelector('#df-3660b41f-e2f0-46cd-863a-429da3839247 button.colab-df-convert');\n",
              "        buttonEl.style.display =\n",
              "          google.colab.kernel.accessAllowed ? 'block' : 'none';\n",
              "\n",
              "        async function convertToInteractive(key) {\n",
              "          const element = document.querySelector('#df-3660b41f-e2f0-46cd-863a-429da3839247');\n",
              "          const dataTable =\n",
              "            await google.colab.kernel.invokeFunction('convertToInteractive',\n",
              "                                                     [key], {});\n",
              "          if (!dataTable) return;\n",
              "\n",
              "          const docLinkHtml = 'Like what you see? Visit the ' +\n",
              "            '<a target=\"_blank\" href=https://colab.research.google.com/notebooks/data_table.ipynb>data table notebook</a>'\n",
              "            + ' to learn more about interactive tables.';\n",
              "          element.innerHTML = '';\n",
              "          dataTable['output_type'] = 'display_data';\n",
              "          await google.colab.output.renderOutput(dataTable, element);\n",
              "          const docLink = document.createElement('div');\n",
              "          docLink.innerHTML = docLinkHtml;\n",
              "          element.appendChild(docLink);\n",
              "        }\n",
              "      </script>\n",
              "    </div>\n",
              "  </div>\n",
              "  "
            ]
          },
          "metadata": {},
          "execution_count": 2
        }
      ]
    },
    {
      "cell_type": "code",
      "source": [
        "print(dados_portugues[\"Questão\"][5])\n",
        "# Necessita remoção de pontuação, código e tags de HTML"
      ],
      "metadata": {
        "id": "_-v7pyqVxxgN",
        "colab": {
          "base_uri": "https://localhost:8080/"
        },
        "outputId": "185c2fdf-2cda-43f9-fa47-0ee8fc387282"
      },
      "execution_count": 3,
      "outputs": [
        {
          "output_type": "stream",
          "name": "stdout",
          "text": [
            "<p>Desenvolvi uma página em PHP para uso interno da empresa que trabalho e apenas pouquíssimas pessoas a utilizam. Através dessa página é possível fazer algumas consultas, inserções, alterações e remoções de dados de uma tabela em um banco de dados MySQL, porém eu acredito que meu código em PHP não está protegido contra injeção de código SQL, por exemplo:</p>\n",
            "\n",
            "<pre><code>//----CONSULTA SQL----//\n",
            "$busca = mysql_query ('insert into Produtos (coluna) values(' . $valor . ')');\n",
            "</code></pre>\n",
            "\n",
            "<p>Logo, digamos que o usuário usar a sentença: <code>1); DROP TABLE Produtos;</code> para ao campo <code>valor</code> o comando ficaria: </p>\n",
            "\n",
            "<pre><code>insert into Produtos (coluna) values(1); DROP TABLE Produtos;\n",
            "</code></pre>\n",
            "\n",
            "<p>Ele vai inserir um novo registro cujo o campo <code>coluna</code> será <code>1</code> e logo em seguida ele vai deletar a tabela Produtos.</p>\n",
            "\n",
            "<p>Como posso melhorar meu código para prevenir essa situação?</p>\n",
            "\n"
          ]
        }
      ]
    },
    {
      "cell_type": "code",
      "source": [
        "dados_ingles = pd.read_csv(\"stackoverflow_ingles.csv\")\n",
        "dados_ingles.head()"
      ],
      "metadata": {
        "colab": {
          "base_uri": "https://localhost:8080/",
          "height": 493
        },
        "id": "MTCc1mZG5j2N",
        "outputId": "9cc4779c-ccb7-47e7-8254-c4b1c34ae248"
      },
      "execution_count": 4,
      "outputs": [
        {
          "output_type": "execute_result",
          "data": {
            "text/plain": [
              "         Id                                             Título  \\\n",
              "0  11227809  Why is it faster to process a sorted array tha...   \n",
              "1    927358  How do I undo the most recent local commits in...   \n",
              "2   2003505  How do I delete a Git branch locally and remot...   \n",
              "3    292357  What is the difference between 'git pull' and ...   \n",
              "4    477816             What is the correct JSON content type?   \n",
              "\n",
              "                                             Questão  \\\n",
              "0  <p>Here is a piece of C++ code that seems very...   \n",
              "1  <p>I accidentally committed the wrong files to...   \n",
              "2  <p>I want to delete a branch both locally and ...   \n",
              "3  <blockquote>\\n  <p><strong>Moderator Note:</st...   \n",
              "4  <p>I've been messing around with <a href=\"http...   \n",
              "\n",
              "                                                Tags  Pontuação  Visualizações  \n",
              "0  <java><c++><performance><optimization><branch-...      23057        1358574  \n",
              "1           <git><version-control><git-commit><undo>      19640        7906137  \n",
              "2                      <git><git-branch><git-remote>      15249        6940906  \n",
              "3                         <git><git-pull><git-fetch>      11008        2543052  \n",
              "4                 <json><http-headers><content-type>       9701        2478940  "
            ],
            "text/html": [
              "\n",
              "  <div id=\"df-743c57f2-5c19-4fd8-a20d-97604e8cbf42\">\n",
              "    <div class=\"colab-df-container\">\n",
              "      <div>\n",
              "<style scoped>\n",
              "    .dataframe tbody tr th:only-of-type {\n",
              "        vertical-align: middle;\n",
              "    }\n",
              "\n",
              "    .dataframe tbody tr th {\n",
              "        vertical-align: top;\n",
              "    }\n",
              "\n",
              "    .dataframe thead th {\n",
              "        text-align: right;\n",
              "    }\n",
              "</style>\n",
              "<table border=\"1\" class=\"dataframe\">\n",
              "  <thead>\n",
              "    <tr style=\"text-align: right;\">\n",
              "      <th></th>\n",
              "      <th>Id</th>\n",
              "      <th>Título</th>\n",
              "      <th>Questão</th>\n",
              "      <th>Tags</th>\n",
              "      <th>Pontuação</th>\n",
              "      <th>Visualizações</th>\n",
              "    </tr>\n",
              "  </thead>\n",
              "  <tbody>\n",
              "    <tr>\n",
              "      <th>0</th>\n",
              "      <td>11227809</td>\n",
              "      <td>Why is it faster to process a sorted array tha...</td>\n",
              "      <td>&lt;p&gt;Here is a piece of C++ code that seems very...</td>\n",
              "      <td>&lt;java&gt;&lt;c++&gt;&lt;performance&gt;&lt;optimization&gt;&lt;branch-...</td>\n",
              "      <td>23057</td>\n",
              "      <td>1358574</td>\n",
              "    </tr>\n",
              "    <tr>\n",
              "      <th>1</th>\n",
              "      <td>927358</td>\n",
              "      <td>How do I undo the most recent local commits in...</td>\n",
              "      <td>&lt;p&gt;I accidentally committed the wrong files to...</td>\n",
              "      <td>&lt;git&gt;&lt;version-control&gt;&lt;git-commit&gt;&lt;undo&gt;</td>\n",
              "      <td>19640</td>\n",
              "      <td>7906137</td>\n",
              "    </tr>\n",
              "    <tr>\n",
              "      <th>2</th>\n",
              "      <td>2003505</td>\n",
              "      <td>How do I delete a Git branch locally and remot...</td>\n",
              "      <td>&lt;p&gt;I want to delete a branch both locally and ...</td>\n",
              "      <td>&lt;git&gt;&lt;git-branch&gt;&lt;git-remote&gt;</td>\n",
              "      <td>15249</td>\n",
              "      <td>6940906</td>\n",
              "    </tr>\n",
              "    <tr>\n",
              "      <th>3</th>\n",
              "      <td>292357</td>\n",
              "      <td>What is the difference between 'git pull' and ...</td>\n",
              "      <td>&lt;blockquote&gt;\\n  &lt;p&gt;&lt;strong&gt;Moderator Note:&lt;/st...</td>\n",
              "      <td>&lt;git&gt;&lt;git-pull&gt;&lt;git-fetch&gt;</td>\n",
              "      <td>11008</td>\n",
              "      <td>2543052</td>\n",
              "    </tr>\n",
              "    <tr>\n",
              "      <th>4</th>\n",
              "      <td>477816</td>\n",
              "      <td>What is the correct JSON content type?</td>\n",
              "      <td>&lt;p&gt;I've been messing around with &lt;a href=\"http...</td>\n",
              "      <td>&lt;json&gt;&lt;http-headers&gt;&lt;content-type&gt;</td>\n",
              "      <td>9701</td>\n",
              "      <td>2478940</td>\n",
              "    </tr>\n",
              "  </tbody>\n",
              "</table>\n",
              "</div>\n",
              "      <button class=\"colab-df-convert\" onclick=\"convertToInteractive('df-743c57f2-5c19-4fd8-a20d-97604e8cbf42')\"\n",
              "              title=\"Convert this dataframe to an interactive table.\"\n",
              "              style=\"display:none;\">\n",
              "        \n",
              "  <svg xmlns=\"http://www.w3.org/2000/svg\" height=\"24px\"viewBox=\"0 0 24 24\"\n",
              "       width=\"24px\">\n",
              "    <path d=\"M0 0h24v24H0V0z\" fill=\"none\"/>\n",
              "    <path d=\"M18.56 5.44l.94 2.06.94-2.06 2.06-.94-2.06-.94-.94-2.06-.94 2.06-2.06.94zm-11 1L8.5 8.5l.94-2.06 2.06-.94-2.06-.94L8.5 2.5l-.94 2.06-2.06.94zm10 10l.94 2.06.94-2.06 2.06-.94-2.06-.94-.94-2.06-.94 2.06-2.06.94z\"/><path d=\"M17.41 7.96l-1.37-1.37c-.4-.4-.92-.59-1.43-.59-.52 0-1.04.2-1.43.59L10.3 9.45l-7.72 7.72c-.78.78-.78 2.05 0 2.83L4 21.41c.39.39.9.59 1.41.59.51 0 1.02-.2 1.41-.59l7.78-7.78 2.81-2.81c.8-.78.8-2.07 0-2.86zM5.41 20L4 18.59l7.72-7.72 1.47 1.35L5.41 20z\"/>\n",
              "  </svg>\n",
              "      </button>\n",
              "      \n",
              "  <style>\n",
              "    .colab-df-container {\n",
              "      display:flex;\n",
              "      flex-wrap:wrap;\n",
              "      gap: 12px;\n",
              "    }\n",
              "\n",
              "    .colab-df-convert {\n",
              "      background-color: #E8F0FE;\n",
              "      border: none;\n",
              "      border-radius: 50%;\n",
              "      cursor: pointer;\n",
              "      display: none;\n",
              "      fill: #1967D2;\n",
              "      height: 32px;\n",
              "      padding: 0 0 0 0;\n",
              "      width: 32px;\n",
              "    }\n",
              "\n",
              "    .colab-df-convert:hover {\n",
              "      background-color: #E2EBFA;\n",
              "      box-shadow: 0px 1px 2px rgba(60, 64, 67, 0.3), 0px 1px 3px 1px rgba(60, 64, 67, 0.15);\n",
              "      fill: #174EA6;\n",
              "    }\n",
              "\n",
              "    [theme=dark] .colab-df-convert {\n",
              "      background-color: #3B4455;\n",
              "      fill: #D2E3FC;\n",
              "    }\n",
              "\n",
              "    [theme=dark] .colab-df-convert:hover {\n",
              "      background-color: #434B5C;\n",
              "      box-shadow: 0px 1px 3px 1px rgba(0, 0, 0, 0.15);\n",
              "      filter: drop-shadow(0px 1px 2px rgba(0, 0, 0, 0.3));\n",
              "      fill: #FFFFFF;\n",
              "    }\n",
              "  </style>\n",
              "\n",
              "      <script>\n",
              "        const buttonEl =\n",
              "          document.querySelector('#df-743c57f2-5c19-4fd8-a20d-97604e8cbf42 button.colab-df-convert');\n",
              "        buttonEl.style.display =\n",
              "          google.colab.kernel.accessAllowed ? 'block' : 'none';\n",
              "\n",
              "        async function convertToInteractive(key) {\n",
              "          const element = document.querySelector('#df-743c57f2-5c19-4fd8-a20d-97604e8cbf42');\n",
              "          const dataTable =\n",
              "            await google.colab.kernel.invokeFunction('convertToInteractive',\n",
              "                                                     [key], {});\n",
              "          if (!dataTable) return;\n",
              "\n",
              "          const docLinkHtml = 'Like what you see? Visit the ' +\n",
              "            '<a target=\"_blank\" href=https://colab.research.google.com/notebooks/data_table.ipynb>data table notebook</a>'\n",
              "            + ' to learn more about interactive tables.';\n",
              "          element.innerHTML = '';\n",
              "          dataTable['output_type'] = 'display_data';\n",
              "          await google.colab.output.renderOutput(dataTable, element);\n",
              "          const docLink = document.createElement('div');\n",
              "          docLink.innerHTML = docLinkHtml;\n",
              "          element.appendChild(docLink);\n",
              "        }\n",
              "      </script>\n",
              "    </div>\n",
              "  </div>\n",
              "  "
            ]
          },
          "metadata": {},
          "execution_count": 4
        }
      ]
    },
    {
      "cell_type": "code",
      "source": [
        "print(dados_ingles[\"Questão\"][5])\n",
        "# Necessita remoção de pontuação, código e tags de HTML"
      ],
      "metadata": {
        "colab": {
          "base_uri": "https://localhost:8080/"
        },
        "id": "-_H56Y2G86iS",
        "outputId": "37599f26-91f1-439a-945a-76b4f5864cc9"
      },
      "execution_count": 5,
      "outputs": [
        {
          "output_type": "stream",
          "name": "stdout",
          "text": [
            "<p>What is the use of the <code>yield</code> keyword in Python? What does it do?</p>\n",
            "\n",
            "<p>For example, I'm trying to understand this code<sup><strong>1</strong></sup>:</p>\n",
            "\n",
            "<pre><code>def _get_child_candidates(self, distance, min_dist, max_dist):\n",
            "    if self._leftchild and distance - max_dist &lt; self._median:\n",
            "        yield self._leftchild\n",
            "    if self._rightchild and distance + max_dist &gt;= self._median:\n",
            "        yield self._rightchild  \n",
            "</code></pre>\n",
            "\n",
            "<p>And this is the caller:</p>\n",
            "\n",
            "<pre><code>result, candidates = [], [self]\n",
            "while candidates:\n",
            "    node = candidates.pop()\n",
            "    distance = node._get_dist(obj)\n",
            "    if distance &lt;= max_dist and distance &gt;= min_dist:\n",
            "        result.extend(node._values)\n",
            "    candidates.extend(node._get_child_candidates(distance, min_dist, max_dist))\n",
            "return result\n",
            "</code></pre>\n",
            "\n",
            "<p>What happens when the method <code>_get_child_candidates</code> is called?\n",
            "Is a list returned? A single element? Is it called again? When will subsequent calls stop?</p>\n",
            "\n",
            "<hr>\n",
            "\n",
            "<p><sub>\n",
            "1. This piece of code was written by Jochen Schulz (jrschulz), who made a great Python library for metric spaces. This is the link to the complete source: <a href=\"http://well-adjusted.de/~jrschulz/mspace/\" rel=\"noreferrer\">Module mspace</a>.</sub></p>\n",
            "\n"
          ]
        }
      ]
    },
    {
      "cell_type": "code",
      "source": [
        "dados_espanhol = pd.read_csv(\"stackoverflow_espanhol.csv\", sep = \";\",  encoding = \"latin\")\n",
        "dados_espanhol.head()"
      ],
      "metadata": {
        "colab": {
          "base_uri": "https://localhost:8080/",
          "height": 545
        },
        "id": "sTxX-ihi9FpF",
        "outputId": "b0fe33be-5a44-40f7-a46a-f07325f85d91"
      },
      "execution_count": 6,
      "outputs": [
        {
          "output_type": "execute_result",
          "data": {
            "text/plain": [
              "      Id                                             Título  \\\n",
              "0  18232              ¿Cómo evitar la inyección SQL en PHP?   \n",
              "1    197  ¿Por qué mis programas no pueden hacer cálculo...   \n",
              "2     36  ¿Cuál es la diferencia entre un inner y un out...   \n",
              "3  29177  ¿Por qué es considerado una mala práctica util...   \n",
              "4    142  Validar un email en JavaScript que acepte todo...   \n",
              "\n",
              "                                             Questão  \\\n",
              "0  <p>Las sentencias dinámicas son sentencias SQL...   \n",
              "1  <p>Unas veces los cálculos funcionan correctam...   \n",
              "2  <p>¿Cuál es la diferencia entre un <code>inner...   \n",
              "3  <p>La mayoría de nosotros decimos, (muchas vec...   \n",
              "4  <h3>Pregunta</h3>\\n\\n<p>¿Cómo validar un e-mai...   \n",
              "\n",
              "                                                Tags  Pontuação  Visualizações  \n",
              "0        <php><mysql><sql><seguridad><inyección-sql>        169          38614  \n",
              "1   <matemáticas><coma-flotante><lenguaje-agnóstico>        141           3860  \n",
              "2                                 <mysql><sql><join>         97          53627  \n",
              "3  <variables><variables-globales><patrones-de-di...         89           9987  \n",
              "4             <javascript><validación><email><regex>         87          73129  "
            ],
            "text/html": [
              "\n",
              "  <div id=\"df-62ea0f7a-d8aa-4906-9042-0d879aed7c83\">\n",
              "    <div class=\"colab-df-container\">\n",
              "      <div>\n",
              "<style scoped>\n",
              "    .dataframe tbody tr th:only-of-type {\n",
              "        vertical-align: middle;\n",
              "    }\n",
              "\n",
              "    .dataframe tbody tr th {\n",
              "        vertical-align: top;\n",
              "    }\n",
              "\n",
              "    .dataframe thead th {\n",
              "        text-align: right;\n",
              "    }\n",
              "</style>\n",
              "<table border=\"1\" class=\"dataframe\">\n",
              "  <thead>\n",
              "    <tr style=\"text-align: right;\">\n",
              "      <th></th>\n",
              "      <th>Id</th>\n",
              "      <th>Título</th>\n",
              "      <th>Questão</th>\n",
              "      <th>Tags</th>\n",
              "      <th>Pontuação</th>\n",
              "      <th>Visualizações</th>\n",
              "    </tr>\n",
              "  </thead>\n",
              "  <tbody>\n",
              "    <tr>\n",
              "      <th>0</th>\n",
              "      <td>18232</td>\n",
              "      <td>¿Cómo evitar la inyección SQL en PHP?</td>\n",
              "      <td>&lt;p&gt;Las sentencias dinámicas son sentencias SQL...</td>\n",
              "      <td>&lt;php&gt;&lt;mysql&gt;&lt;sql&gt;&lt;seguridad&gt;&lt;inyección-sql&gt;</td>\n",
              "      <td>169</td>\n",
              "      <td>38614</td>\n",
              "    </tr>\n",
              "    <tr>\n",
              "      <th>1</th>\n",
              "      <td>197</td>\n",
              "      <td>¿Por qué mis programas no pueden hacer cálculo...</td>\n",
              "      <td>&lt;p&gt;Unas veces los cálculos funcionan correctam...</td>\n",
              "      <td>&lt;matemáticas&gt;&lt;coma-flotante&gt;&lt;lenguaje-agnóstico&gt;</td>\n",
              "      <td>141</td>\n",
              "      <td>3860</td>\n",
              "    </tr>\n",
              "    <tr>\n",
              "      <th>2</th>\n",
              "      <td>36</td>\n",
              "      <td>¿Cuál es la diferencia entre un inner y un out...</td>\n",
              "      <td>&lt;p&gt;¿Cuál es la diferencia entre un &lt;code&gt;inner...</td>\n",
              "      <td>&lt;mysql&gt;&lt;sql&gt;&lt;join&gt;</td>\n",
              "      <td>97</td>\n",
              "      <td>53627</td>\n",
              "    </tr>\n",
              "    <tr>\n",
              "      <th>3</th>\n",
              "      <td>29177</td>\n",
              "      <td>¿Por qué es considerado una mala práctica util...</td>\n",
              "      <td>&lt;p&gt;La mayoría de nosotros decimos, (muchas vec...</td>\n",
              "      <td>&lt;variables&gt;&lt;variables-globales&gt;&lt;patrones-de-di...</td>\n",
              "      <td>89</td>\n",
              "      <td>9987</td>\n",
              "    </tr>\n",
              "    <tr>\n",
              "      <th>4</th>\n",
              "      <td>142</td>\n",
              "      <td>Validar un email en JavaScript que acepte todo...</td>\n",
              "      <td>&lt;h3&gt;Pregunta&lt;/h3&gt;\\n\\n&lt;p&gt;¿Cómo validar un e-mai...</td>\n",
              "      <td>&lt;javascript&gt;&lt;validación&gt;&lt;email&gt;&lt;regex&gt;</td>\n",
              "      <td>87</td>\n",
              "      <td>73129</td>\n",
              "    </tr>\n",
              "  </tbody>\n",
              "</table>\n",
              "</div>\n",
              "      <button class=\"colab-df-convert\" onclick=\"convertToInteractive('df-62ea0f7a-d8aa-4906-9042-0d879aed7c83')\"\n",
              "              title=\"Convert this dataframe to an interactive table.\"\n",
              "              style=\"display:none;\">\n",
              "        \n",
              "  <svg xmlns=\"http://www.w3.org/2000/svg\" height=\"24px\"viewBox=\"0 0 24 24\"\n",
              "       width=\"24px\">\n",
              "    <path d=\"M0 0h24v24H0V0z\" fill=\"none\"/>\n",
              "    <path d=\"M18.56 5.44l.94 2.06.94-2.06 2.06-.94-2.06-.94-.94-2.06-.94 2.06-2.06.94zm-11 1L8.5 8.5l.94-2.06 2.06-.94-2.06-.94L8.5 2.5l-.94 2.06-2.06.94zm10 10l.94 2.06.94-2.06 2.06-.94-2.06-.94-.94-2.06-.94 2.06-2.06.94z\"/><path d=\"M17.41 7.96l-1.37-1.37c-.4-.4-.92-.59-1.43-.59-.52 0-1.04.2-1.43.59L10.3 9.45l-7.72 7.72c-.78.78-.78 2.05 0 2.83L4 21.41c.39.39.9.59 1.41.59.51 0 1.02-.2 1.41-.59l7.78-7.78 2.81-2.81c.8-.78.8-2.07 0-2.86zM5.41 20L4 18.59l7.72-7.72 1.47 1.35L5.41 20z\"/>\n",
              "  </svg>\n",
              "      </button>\n",
              "      \n",
              "  <style>\n",
              "    .colab-df-container {\n",
              "      display:flex;\n",
              "      flex-wrap:wrap;\n",
              "      gap: 12px;\n",
              "    }\n",
              "\n",
              "    .colab-df-convert {\n",
              "      background-color: #E8F0FE;\n",
              "      border: none;\n",
              "      border-radius: 50%;\n",
              "      cursor: pointer;\n",
              "      display: none;\n",
              "      fill: #1967D2;\n",
              "      height: 32px;\n",
              "      padding: 0 0 0 0;\n",
              "      width: 32px;\n",
              "    }\n",
              "\n",
              "    .colab-df-convert:hover {\n",
              "      background-color: #E2EBFA;\n",
              "      box-shadow: 0px 1px 2px rgba(60, 64, 67, 0.3), 0px 1px 3px 1px rgba(60, 64, 67, 0.15);\n",
              "      fill: #174EA6;\n",
              "    }\n",
              "\n",
              "    [theme=dark] .colab-df-convert {\n",
              "      background-color: #3B4455;\n",
              "      fill: #D2E3FC;\n",
              "    }\n",
              "\n",
              "    [theme=dark] .colab-df-convert:hover {\n",
              "      background-color: #434B5C;\n",
              "      box-shadow: 0px 1px 3px 1px rgba(0, 0, 0, 0.15);\n",
              "      filter: drop-shadow(0px 1px 2px rgba(0, 0, 0, 0.3));\n",
              "      fill: #FFFFFF;\n",
              "    }\n",
              "  </style>\n",
              "\n",
              "      <script>\n",
              "        const buttonEl =\n",
              "          document.querySelector('#df-62ea0f7a-d8aa-4906-9042-0d879aed7c83 button.colab-df-convert');\n",
              "        buttonEl.style.display =\n",
              "          google.colab.kernel.accessAllowed ? 'block' : 'none';\n",
              "\n",
              "        async function convertToInteractive(key) {\n",
              "          const element = document.querySelector('#df-62ea0f7a-d8aa-4906-9042-0d879aed7c83');\n",
              "          const dataTable =\n",
              "            await google.colab.kernel.invokeFunction('convertToInteractive',\n",
              "                                                     [key], {});\n",
              "          if (!dataTable) return;\n",
              "\n",
              "          const docLinkHtml = 'Like what you see? Visit the ' +\n",
              "            '<a target=\"_blank\" href=https://colab.research.google.com/notebooks/data_table.ipynb>data table notebook</a>'\n",
              "            + ' to learn more about interactive tables.';\n",
              "          element.innerHTML = '';\n",
              "          dataTable['output_type'] = 'display_data';\n",
              "          await google.colab.output.renderOutput(dataTable, element);\n",
              "          const docLink = document.createElement('div');\n",
              "          docLink.innerHTML = docLinkHtml;\n",
              "          element.appendChild(docLink);\n",
              "        }\n",
              "      </script>\n",
              "    </div>\n",
              "  </div>\n",
              "  "
            ]
          },
          "metadata": {},
          "execution_count": 6
        }
      ]
    },
    {
      "cell_type": "code",
      "source": [
        "print(dados_espanhol[\"Questão\"][5])\n",
        "# Necessita remoção de pontuação, código e tags de HTML"
      ],
      "metadata": {
        "colab": {
          "base_uri": "https://localhost:8080/"
        },
        "id": "ccjvoqfR9OJh",
        "outputId": "af3a92e0-8323-4feb-d519-915062a21146"
      },
      "execution_count": 7,
      "outputs": [
        {
          "output_type": "stream",
          "name": "stdout",
          "text": [
            "<p>Siempre he visto que en <code>JavaScript</code> hay:</p>\n",
            "\n",
            "<ul>\n",
            "<li>asignaciones <code>=</code></li>\n",
            "<li>comparaciones <code>==</code> y <code>===</code></li>\n",
            "</ul>\n",
            "\n",
            "<p>Creo entender que <code>==</code> hace algo parecido a comparar el valor de la variable y el <code>===</code> también compara el tipo (como un equals de java). </p>\n",
            "\n",
            "<p><strong>¿Alguien podría confirmarme este punto y extenderlo?</strong>. Soy javero y el no tipado de javascript a veces me encanta y otras lo odio.</p>\n",
            "\n",
            "<hr>\n",
            "\n",
            "<p>¿Cuál es la manera correcta en javascript de comparar <code>undefined</code>, <code>null</code> y otros valores por defecto? </p>\n",
            "\n",
            "<pre><code>variable == null\n",
            "variable === null\n",
            "</code></pre>\n",
            "\n",
            "<p>¿<strong><code>undefined</code></strong> se usa como cadena de texto o como palabra clave? ¿Cual de las siguientes comparaciones es la correcta para un elemento <code>html</code> sin <code>value</code>? (por ejemplo un label sin contenido)</p>\n",
            "\n",
            "<pre><code>variable == \"undefined\"\n",
            "variable === \"undefined\"\n",
            "variable == undefined\n",
            "variable === undefined\n",
            "</code></pre>\n",
            "\n"
          ]
        }
      ]
    },
    {
      "cell_type": "markdown",
      "source": [
        "# **Utilizando Regex em Python**"
      ],
      "metadata": {
        "id": "QGuKpab3-kZ-"
      }
    },
    {
      "cell_type": "code",
      "source": [
        "questao_portugues = dados_portugues[\"Questão\"][5]\n",
        "questao_ingles = dados_ingles[\"Questão\"][5]\n",
        "questao_espanhol = dados_espanhol[\"Questão\"][5]"
      ],
      "metadata": {
        "id": "1KWTRp82-Jrm"
      },
      "execution_count": 8,
      "outputs": []
    },
    {
      "cell_type": "code",
      "source": [
        "# Encontrar no nosso texto uma regex indicada\n",
        "re.findall(r\"<p>\", questao_portugues)"
      ],
      "metadata": {
        "colab": {
          "base_uri": "https://localhost:8080/"
        },
        "id": "6F-xNH57-7hR",
        "outputId": "21141a46-aae4-4e3a-f8aa-eaca73673902"
      },
      "execution_count": 9,
      "outputs": [
        {
          "output_type": "execute_result",
          "data": {
            "text/plain": [
              "['<p>', '<p>', '<p>', '<p>']"
            ]
          },
          "metadata": {},
          "execution_count": 9
        }
      ]
    },
    {
      "cell_type": "code",
      "source": [
        "# Encontrar todos os elementos textuais que começam com < e terminam com > tendo qualquer valor entre eles\n",
        "re.findall(r\"<.*?>\", questao_portugues)"
      ],
      "metadata": {
        "colab": {
          "base_uri": "https://localhost:8080/"
        },
        "id": "qHc2dWFc_biJ",
        "outputId": "137615d8-ade8-4263-94a9-4b49634dbf36"
      },
      "execution_count": 10,
      "outputs": [
        {
          "output_type": "execute_result",
          "data": {
            "text/plain": [
              "['<p>',\n",
              " '</p>',\n",
              " '<pre>',\n",
              " '<code>',\n",
              " '</code>',\n",
              " '</pre>',\n",
              " '<p>',\n",
              " '<code>',\n",
              " '</code>',\n",
              " '<code>',\n",
              " '</code>',\n",
              " '</p>',\n",
              " '<pre>',\n",
              " '<code>',\n",
              " '</code>',\n",
              " '</pre>',\n",
              " '<p>',\n",
              " '<code>',\n",
              " '</code>',\n",
              " '<code>',\n",
              " '</code>',\n",
              " '</p>',\n",
              " '<p>',\n",
              " '</p>']"
            ]
          },
          "metadata": {},
          "execution_count": 10
        }
      ]
    },
    {
      "cell_type": "code",
      "source": [
        "# Encontrar todos os elementos textuais que começam com < e terminam com > tendo qualquer valor entre eles e subtitui-las por algo\n",
        "re.sub(r\"<.*?>\",\"T---E---S---T---E\", questao_portugues)"
      ],
      "metadata": {
        "colab": {
          "base_uri": "https://localhost:8080/",
          "height": 237
        },
        "id": "v-YH6KohAHvk",
        "outputId": "fe400d85-b86e-4c4e-8175-ebaa08aca37d"
      },
      "execution_count": 11,
      "outputs": [
        {
          "output_type": "execute_result",
          "data": {
            "text/plain": [
              "\"T---E---S---T---EDesenvolvi uma página em PHP para uso interno da empresa que trabalho e apenas pouquíssimas pessoas a utilizam. Através dessa página é possível fazer algumas consultas, inserções, alterações e remoções de dados de uma tabela em um banco de dados MySQL, porém eu acredito que meu código em PHP não está protegido contra injeção de código SQL, por exemplo:T---E---S---T---E\\n\\nT---E---S---T---ET---E---S---T---E//----CONSULTA SQL----//\\n$busca = mysql_query ('insert into Produtos (coluna) values(' . $valor . ')');\\nT---E---S---T---ET---E---S---T---E\\n\\nT---E---S---T---ELogo, digamos que o usuário usar a sentença: T---E---S---T---E1); DROP TABLE Produtos;T---E---S---T---E para ao campo T---E---S---T---EvalorT---E---S---T---E o comando ficaria: T---E---S---T---E\\n\\nT---E---S---T---ET---E---S---T---Einsert into Produtos (coluna) values(1); DROP TABLE Produtos;\\nT---E---S---T---ET---E---S---T---E\\n\\nT---E---S---T---EEle vai inserir um novo registro cujo o campo T---E---S---T---EcolunaT---E---S---T---E será T---E---S---T---E1T---E---S---T---E e logo em seguida ele vai deletar a tabela Produtos.T---E---S---T---E\\n\\nT---E---S---T---EComo posso melhorar meu código para prevenir essa situação?T---E---S---T---E\\n\""
            ],
            "application/vnd.google.colaboratory.intrinsic+json": {
              "type": "string"
            }
          },
          "metadata": {},
          "execution_count": 11
        }
      ]
    },
    {
      "cell_type": "code",
      "source": [
        "# Procura por todo o texto a posição em que nossa regex é encontrada\n",
        "re.search(r\"70\", \"7543843847389475687493456874970\")"
      ],
      "metadata": {
        "colab": {
          "base_uri": "https://localhost:8080/"
        },
        "id": "QTWL9-G6A0q9",
        "outputId": "8f76f0af-745c-4484-daa5-20f36c8e9449"
      },
      "execution_count": 12,
      "outputs": [
        {
          "output_type": "execute_result",
          "data": {
            "text/plain": [
              "<re.Match object; span=(29, 31), match='70'>"
            ]
          },
          "metadata": {},
          "execution_count": 12
        }
      ]
    },
    {
      "cell_type": "code",
      "source": [
        "# Transforma a string em um regex direto - Tempo de execução menor\n",
        "regex = re.compile(r\"70\")\n",
        "\n",
        "regex.search(\"7543843847389475687493456874970\")"
      ],
      "metadata": {
        "colab": {
          "base_uri": "https://localhost:8080/"
        },
        "id": "O8Dai6g_Bcgk",
        "outputId": "7aeaa330-6917-4912-8f3b-7138db514e20"
      },
      "execution_count": 13,
      "outputs": [
        {
          "output_type": "execute_result",
          "data": {
            "text/plain": [
              "<re.Match object; span=(29, 31), match='70'>"
            ]
          },
          "metadata": {},
          "execution_count": 13
        }
      ]
    },
    {
      "cell_type": "markdown",
      "source": [
        "# **Substituindo códigos no texto**"
      ],
      "metadata": {
        "id": "sJ2OPeu5EjHB"
      }
    },
    {
      "cell_type": "code",
      "source": [
        "def substituir_codigo(textos, regex):\n",
        "  if type(textos) == str:\n",
        "    return regex.sub(\"CODE\", textos)\n",
        "  else:\n",
        "    return [regex.sub(\"CODE\", texto) for texto in textos]"
      ],
      "metadata": {
        "id": "xaFFkc2gEp6H"
      },
      "execution_count": 14,
      "outputs": []
    },
    {
      "cell_type": "code",
      "source": [
        "regex_codigo = re.compile(r\"<code>(.|(\\n))*?</code>\")\n",
        "questao_sem_code = substituir_codigo(questao_portugues, regex_codigo)\n",
        "print(questao_sem_code)"
      ],
      "metadata": {
        "colab": {
          "base_uri": "https://localhost:8080/"
        },
        "id": "CrljwLnZEzVi",
        "outputId": "413e3a29-d69c-47dc-be24-7286f50b29cb"
      },
      "execution_count": 15,
      "outputs": [
        {
          "output_type": "stream",
          "name": "stdout",
          "text": [
            "<p>Desenvolvi uma página em PHP para uso interno da empresa que trabalho e apenas pouquíssimas pessoas a utilizam. Através dessa página é possível fazer algumas consultas, inserções, alterações e remoções de dados de uma tabela em um banco de dados MySQL, porém eu acredito que meu código em PHP não está protegido contra injeção de código SQL, por exemplo:</p>\n",
            "\n",
            "<pre>CODE</pre>\n",
            "\n",
            "<p>Logo, digamos que o usuário usar a sentença: CODE para ao campo CODE o comando ficaria: </p>\n",
            "\n",
            "<pre>CODE</pre>\n",
            "\n",
            "<p>Ele vai inserir um novo registro cujo o campo CODE será CODE e logo em seguida ele vai deletar a tabela Produtos.</p>\n",
            "\n",
            "<p>Como posso melhorar meu código para prevenir essa situação?</p>\n",
            "\n"
          ]
        }
      ]
    },
    {
      "cell_type": "markdown",
      "source": [
        "# **Removendo marcação HTML do texto**"
      ],
      "metadata": {
        "id": "DWwPxaSgDHox"
      }
    },
    {
      "cell_type": "code",
      "source": [
        "def remover(textos, regex):\n",
        "  if type(textos) == str:\n",
        "    return regex.sub(\"\", textos)\n",
        "  else:\n",
        "    return [regex.sub(\"\", texto) for texto in textos]"
      ],
      "metadata": {
        "id": "3g8v-mLCBxY4"
      },
      "execution_count": 16,
      "outputs": []
    },
    {
      "cell_type": "code",
      "source": [
        "regex_html = re.compile(r\"<.*?>\")\n",
        "questao_sem_tag = remover(questao_ingles, regex_html)\n",
        "print(questao_sem_tag)"
      ],
      "metadata": {
        "colab": {
          "base_uri": "https://localhost:8080/"
        },
        "id": "qHGoOv6HDv75",
        "outputId": "f1d3f614-f68b-4890-8acb-98ecea6ae95c"
      },
      "execution_count": 17,
      "outputs": [
        {
          "output_type": "stream",
          "name": "stdout",
          "text": [
            "What is the use of the yield keyword in Python? What does it do?\n",
            "\n",
            "For example, I'm trying to understand this code1:\n",
            "\n",
            "def _get_child_candidates(self, distance, min_dist, max_dist):\n",
            "    if self._leftchild and distance - max_dist &lt; self._median:\n",
            "        yield self._leftchild\n",
            "    if self._rightchild and distance + max_dist &gt;= self._median:\n",
            "        yield self._rightchild  \n",
            "\n",
            "\n",
            "And this is the caller:\n",
            "\n",
            "result, candidates = [], [self]\n",
            "while candidates:\n",
            "    node = candidates.pop()\n",
            "    distance = node._get_dist(obj)\n",
            "    if distance &lt;= max_dist and distance &gt;= min_dist:\n",
            "        result.extend(node._values)\n",
            "    candidates.extend(node._get_child_candidates(distance, min_dist, max_dist))\n",
            "return result\n",
            "\n",
            "\n",
            "What happens when the method _get_child_candidates is called?\n",
            "Is a list returned? A single element? Is it called again? When will subsequent calls stop?\n",
            "\n",
            "\n",
            "\n",
            "\n",
            "1. This piece of code was written by Jochen Schulz (jrschulz), who made a great Python library for metric spaces. This is the link to the complete source: Module mspace.\n",
            "\n"
          ]
        }
      ]
    },
    {
      "cell_type": "markdown",
      "source": [
        "# **Removendo Pontuação**"
      ],
      "metadata": {
        "id": "FwyC9W1o5rqr"
      }
    },
    {
      "cell_type": "code",
      "source": [
        "regex_pontuacao = re.compile(r\"[^\\w\\s]\")"
      ],
      "metadata": {
        "id": "V_p3jGJF5fUp"
      },
      "execution_count": 18,
      "outputs": []
    },
    {
      "cell_type": "markdown",
      "source": [
        "# **Transformando as letras em minusculas**"
      ],
      "metadata": {
        "id": "aJXveP8d6YAJ"
      }
    },
    {
      "cell_type": "code",
      "source": [
        "def minusculo(textos):\n",
        "  if type(textos) == str:\n",
        "    return textos.lower()\n",
        "\n",
        "  else:\n",
        "    return [texto.lower() for texto in textos]"
      ],
      "metadata": {
        "id": "MOA62vAO6rZF"
      },
      "execution_count": 19,
      "outputs": []
    },
    {
      "cell_type": "markdown",
      "source": [
        "# **Remover numeros**"
      ],
      "metadata": {
        "id": "YLS1YFUV7ON5"
      }
    },
    {
      "cell_type": "code",
      "source": [
        "regex_digitos = re.compile(r\"\\d+\")"
      ],
      "metadata": {
        "id": "Ly6kSOQV67r7"
      },
      "execution_count": 20,
      "outputs": []
    },
    {
      "cell_type": "markdown",
      "source": [
        "# **Remover espaços duplicados**"
      ],
      "metadata": {
        "id": "ZXF4aADs8mNy"
      }
    },
    {
      "cell_type": "code",
      "source": [
        "regex_espaco_duplicado = re.compile(r\" +\")\n",
        "\n",
        "def substituir_espaco(textos,regex):\n",
        "    if type(textos) == str:\n",
        "      return regex.sub(\" \", textos)\n",
        "    else:\n",
        "      return [regex.sub(\" \", texto) for texto in textos]"
      ],
      "metadata": {
        "id": "JPKWjDiL7d_9"
      },
      "execution_count": 21,
      "outputs": []
    },
    {
      "cell_type": "code",
      "source": [
        "regex_quebra_linha = re.compile(r\"(\\n)\")"
      ],
      "metadata": {
        "id": "HPFs_oMr9O5X"
      },
      "execution_count": 22,
      "outputs": []
    },
    {
      "cell_type": "markdown",
      "source": [
        "# **Tratando o banco de dados**"
      ],
      "metadata": {
        "id": "3CMxaszD4AtM"
      }
    },
    {
      "cell_type": "code",
      "source": [
        "questoes_port_sem_code = substituir_codigo(dados_portugues[\"Questão\"], regex_codigo)\n",
        "questoes_port_sem_code[0]\n",
        "\n",
        "questoes_port_sem_code_tag = remover(questoes_port_sem_code, regex_html)\n",
        "questoes_port_sem_code_tag[0]\n",
        "\n",
        "dados_portugues[\"sem_code_tag\"] = questoes_port_sem_code_tag\n",
        "dados_portugues.head()"
      ],
      "metadata": {
        "colab": {
          "base_uri": "https://localhost:8080/",
          "height": 666
        },
        "id": "Wloy7Z6738f5",
        "outputId": "15299fec-bee5-48a4-a4ce-ea039ba99bf1"
      },
      "execution_count": 23,
      "outputs": [
        {
          "output_type": "execute_result",
          "data": {
            "text/plain": [
              "      Id                                             Título  \\\n",
              "0   2402         Como fazer hash de senhas de forma segura?   \n",
              "1   6441  Qual é a diferença entre INNER JOIN e OUTER JOIN?   \n",
              "2    579  Por que não devemos usar funções do tipo mysql_*?   \n",
              "3   2539           As mensagens de erro devem se desculpar?   \n",
              "4  17501  Qual é a diferença de API, biblioteca e Framew...   \n",
              "\n",
              "                                             Questão  \\\n",
              "0  <p>Se eu fizer o <em><a href=\"http://pt.wikipe...   \n",
              "1  <p>Qual é a diferença entre <code>INNER JOIN</...   \n",
              "2  <p>Uma dúvida muito comum é por que devemos pa...   \n",
              "3  <p>É comum encontrar uma mensagem de erro que ...   \n",
              "4  <p>Me parecem termos muito próximos e eventual...   \n",
              "\n",
              "                                         Tags  Pontuação  Visualizações  \\\n",
              "0     <hash><segurança><senhas><criptografia>        350          22367   \n",
              "1                                 <sql><join>        276         176953   \n",
              "2                                <php><mysql>        226           9761   \n",
              "3           <aplicação-web><gui><console><ux>        214           5075   \n",
              "4  <api><framework><terminologia><biblioteca>        193          54191   \n",
              "\n",
              "                                        sem_code_tag  \n",
              "0  Se eu fizer o hash de senhas antes de armazená...  \n",
              "1  Qual é a diferença entre CODE e CODE? Podem me...  \n",
              "2  Uma dúvida muito comum é por que devemos parar...  \n",
              "3  É comum encontrar uma mensagem de erro que diz...  \n",
              "4  Me parecem termos muito próximos e eventualmen...  "
            ],
            "text/html": [
              "\n",
              "  <div id=\"df-9320ca5d-7d8f-4f60-8850-8cbb9e9984c9\">\n",
              "    <div class=\"colab-df-container\">\n",
              "      <div>\n",
              "<style scoped>\n",
              "    .dataframe tbody tr th:only-of-type {\n",
              "        vertical-align: middle;\n",
              "    }\n",
              "\n",
              "    .dataframe tbody tr th {\n",
              "        vertical-align: top;\n",
              "    }\n",
              "\n",
              "    .dataframe thead th {\n",
              "        text-align: right;\n",
              "    }\n",
              "</style>\n",
              "<table border=\"1\" class=\"dataframe\">\n",
              "  <thead>\n",
              "    <tr style=\"text-align: right;\">\n",
              "      <th></th>\n",
              "      <th>Id</th>\n",
              "      <th>Título</th>\n",
              "      <th>Questão</th>\n",
              "      <th>Tags</th>\n",
              "      <th>Pontuação</th>\n",
              "      <th>Visualizações</th>\n",
              "      <th>sem_code_tag</th>\n",
              "    </tr>\n",
              "  </thead>\n",
              "  <tbody>\n",
              "    <tr>\n",
              "      <th>0</th>\n",
              "      <td>2402</td>\n",
              "      <td>Como fazer hash de senhas de forma segura?</td>\n",
              "      <td>&lt;p&gt;Se eu fizer o &lt;em&gt;&lt;a href=\"http://pt.wikipe...</td>\n",
              "      <td>&lt;hash&gt;&lt;segurança&gt;&lt;senhas&gt;&lt;criptografia&gt;</td>\n",
              "      <td>350</td>\n",
              "      <td>22367</td>\n",
              "      <td>Se eu fizer o hash de senhas antes de armazená...</td>\n",
              "    </tr>\n",
              "    <tr>\n",
              "      <th>1</th>\n",
              "      <td>6441</td>\n",
              "      <td>Qual é a diferença entre INNER JOIN e OUTER JOIN?</td>\n",
              "      <td>&lt;p&gt;Qual é a diferença entre &lt;code&gt;INNER JOIN&lt;/...</td>\n",
              "      <td>&lt;sql&gt;&lt;join&gt;</td>\n",
              "      <td>276</td>\n",
              "      <td>176953</td>\n",
              "      <td>Qual é a diferença entre CODE e CODE? Podem me...</td>\n",
              "    </tr>\n",
              "    <tr>\n",
              "      <th>2</th>\n",
              "      <td>579</td>\n",
              "      <td>Por que não devemos usar funções do tipo mysql_*?</td>\n",
              "      <td>&lt;p&gt;Uma dúvida muito comum é por que devemos pa...</td>\n",
              "      <td>&lt;php&gt;&lt;mysql&gt;</td>\n",
              "      <td>226</td>\n",
              "      <td>9761</td>\n",
              "      <td>Uma dúvida muito comum é por que devemos parar...</td>\n",
              "    </tr>\n",
              "    <tr>\n",
              "      <th>3</th>\n",
              "      <td>2539</td>\n",
              "      <td>As mensagens de erro devem se desculpar?</td>\n",
              "      <td>&lt;p&gt;É comum encontrar uma mensagem de erro que ...</td>\n",
              "      <td>&lt;aplicação-web&gt;&lt;gui&gt;&lt;console&gt;&lt;ux&gt;</td>\n",
              "      <td>214</td>\n",
              "      <td>5075</td>\n",
              "      <td>É comum encontrar uma mensagem de erro que diz...</td>\n",
              "    </tr>\n",
              "    <tr>\n",
              "      <th>4</th>\n",
              "      <td>17501</td>\n",
              "      <td>Qual é a diferença de API, biblioteca e Framew...</td>\n",
              "      <td>&lt;p&gt;Me parecem termos muito próximos e eventual...</td>\n",
              "      <td>&lt;api&gt;&lt;framework&gt;&lt;terminologia&gt;&lt;biblioteca&gt;</td>\n",
              "      <td>193</td>\n",
              "      <td>54191</td>\n",
              "      <td>Me parecem termos muito próximos e eventualmen...</td>\n",
              "    </tr>\n",
              "  </tbody>\n",
              "</table>\n",
              "</div>\n",
              "      <button class=\"colab-df-convert\" onclick=\"convertToInteractive('df-9320ca5d-7d8f-4f60-8850-8cbb9e9984c9')\"\n",
              "              title=\"Convert this dataframe to an interactive table.\"\n",
              "              style=\"display:none;\">\n",
              "        \n",
              "  <svg xmlns=\"http://www.w3.org/2000/svg\" height=\"24px\"viewBox=\"0 0 24 24\"\n",
              "       width=\"24px\">\n",
              "    <path d=\"M0 0h24v24H0V0z\" fill=\"none\"/>\n",
              "    <path d=\"M18.56 5.44l.94 2.06.94-2.06 2.06-.94-2.06-.94-.94-2.06-.94 2.06-2.06.94zm-11 1L8.5 8.5l.94-2.06 2.06-.94-2.06-.94L8.5 2.5l-.94 2.06-2.06.94zm10 10l.94 2.06.94-2.06 2.06-.94-2.06-.94-.94-2.06-.94 2.06-2.06.94z\"/><path d=\"M17.41 7.96l-1.37-1.37c-.4-.4-.92-.59-1.43-.59-.52 0-1.04.2-1.43.59L10.3 9.45l-7.72 7.72c-.78.78-.78 2.05 0 2.83L4 21.41c.39.39.9.59 1.41.59.51 0 1.02-.2 1.41-.59l7.78-7.78 2.81-2.81c.8-.78.8-2.07 0-2.86zM5.41 20L4 18.59l7.72-7.72 1.47 1.35L5.41 20z\"/>\n",
              "  </svg>\n",
              "      </button>\n",
              "      \n",
              "  <style>\n",
              "    .colab-df-container {\n",
              "      display:flex;\n",
              "      flex-wrap:wrap;\n",
              "      gap: 12px;\n",
              "    }\n",
              "\n",
              "    .colab-df-convert {\n",
              "      background-color: #E8F0FE;\n",
              "      border: none;\n",
              "      border-radius: 50%;\n",
              "      cursor: pointer;\n",
              "      display: none;\n",
              "      fill: #1967D2;\n",
              "      height: 32px;\n",
              "      padding: 0 0 0 0;\n",
              "      width: 32px;\n",
              "    }\n",
              "\n",
              "    .colab-df-convert:hover {\n",
              "      background-color: #E2EBFA;\n",
              "      box-shadow: 0px 1px 2px rgba(60, 64, 67, 0.3), 0px 1px 3px 1px rgba(60, 64, 67, 0.15);\n",
              "      fill: #174EA6;\n",
              "    }\n",
              "\n",
              "    [theme=dark] .colab-df-convert {\n",
              "      background-color: #3B4455;\n",
              "      fill: #D2E3FC;\n",
              "    }\n",
              "\n",
              "    [theme=dark] .colab-df-convert:hover {\n",
              "      background-color: #434B5C;\n",
              "      box-shadow: 0px 1px 3px 1px rgba(0, 0, 0, 0.15);\n",
              "      filter: drop-shadow(0px 1px 2px rgba(0, 0, 0, 0.3));\n",
              "      fill: #FFFFFF;\n",
              "    }\n",
              "  </style>\n",
              "\n",
              "      <script>\n",
              "        const buttonEl =\n",
              "          document.querySelector('#df-9320ca5d-7d8f-4f60-8850-8cbb9e9984c9 button.colab-df-convert');\n",
              "        buttonEl.style.display =\n",
              "          google.colab.kernel.accessAllowed ? 'block' : 'none';\n",
              "\n",
              "        async function convertToInteractive(key) {\n",
              "          const element = document.querySelector('#df-9320ca5d-7d8f-4f60-8850-8cbb9e9984c9');\n",
              "          const dataTable =\n",
              "            await google.colab.kernel.invokeFunction('convertToInteractive',\n",
              "                                                     [key], {});\n",
              "          if (!dataTable) return;\n",
              "\n",
              "          const docLinkHtml = 'Like what you see? Visit the ' +\n",
              "            '<a target=\"_blank\" href=https://colab.research.google.com/notebooks/data_table.ipynb>data table notebook</a>'\n",
              "            + ' to learn more about interactive tables.';\n",
              "          element.innerHTML = '';\n",
              "          dataTable['output_type'] = 'display_data';\n",
              "          await google.colab.output.renderOutput(dataTable, element);\n",
              "          const docLink = document.createElement('div');\n",
              "          docLink.innerHTML = docLinkHtml;\n",
              "          element.appendChild(docLink);\n",
              "        }\n",
              "      </script>\n",
              "    </div>\n",
              "  </div>\n",
              "  "
            ]
          },
          "metadata": {},
          "execution_count": 23
        }
      ]
    },
    {
      "cell_type": "code",
      "source": [
        "questoes_ingles_sem_code = substituir_codigo(dados_ingles[\"Questão\"], regex_codigo)\n",
        "questoes_ingles_sem_code[0]\n",
        "\n",
        "questoes_ingles_sem_code_tag = remover(questoes_ingles_sem_code, regex_html)\n",
        "questoes_ingles_sem_code_tag[0]\n",
        "\n",
        "dados_ingles[\"sem_code_tag\"] = questoes_ingles_sem_code_tag\n",
        "dados_ingles.head()"
      ],
      "metadata": {
        "id": "KaQw8PmwEBUc",
        "colab": {
          "base_uri": "https://localhost:8080/",
          "height": 719
        },
        "outputId": "50ddbb99-e984-48d4-f671-50d7aa92f7fc"
      },
      "execution_count": 24,
      "outputs": [
        {
          "output_type": "execute_result",
          "data": {
            "text/plain": [
              "         Id                                             Título  \\\n",
              "0  11227809  Why is it faster to process a sorted array tha...   \n",
              "1    927358  How do I undo the most recent local commits in...   \n",
              "2   2003505  How do I delete a Git branch locally and remot...   \n",
              "3    292357  What is the difference between 'git pull' and ...   \n",
              "4    477816             What is the correct JSON content type?   \n",
              "\n",
              "                                             Questão  \\\n",
              "0  <p>Here is a piece of C++ code that seems very...   \n",
              "1  <p>I accidentally committed the wrong files to...   \n",
              "2  <p>I want to delete a branch both locally and ...   \n",
              "3  <blockquote>\\n  <p><strong>Moderator Note:</st...   \n",
              "4  <p>I've been messing around with <a href=\"http...   \n",
              "\n",
              "                                                Tags  Pontuação  \\\n",
              "0  <java><c++><performance><optimization><branch-...      23057   \n",
              "1           <git><version-control><git-commit><undo>      19640   \n",
              "2                      <git><git-branch><git-remote>      15249   \n",
              "3                         <git><git-pull><git-fetch>      11008   \n",
              "4                 <json><http-headers><content-type>       9701   \n",
              "\n",
              "   Visualizações                                       sem_code_tag  \n",
              "0        1358574  Here is a piece of C++ code that seems very pe...  \n",
              "1        7906137  I accidentally committed the wrong files to Gi...  \n",
              "2        6940906  I want to delete a branch both locally and rem...  \n",
              "3        2543052  \\n  Moderator Note: Given that this question h...  \n",
              "4        2478940  I've been messing around with JSON for some ti...  "
            ],
            "text/html": [
              "\n",
              "  <div id=\"df-d1023792-844c-47b6-8921-f0740a30094f\">\n",
              "    <div class=\"colab-df-container\">\n",
              "      <div>\n",
              "<style scoped>\n",
              "    .dataframe tbody tr th:only-of-type {\n",
              "        vertical-align: middle;\n",
              "    }\n",
              "\n",
              "    .dataframe tbody tr th {\n",
              "        vertical-align: top;\n",
              "    }\n",
              "\n",
              "    .dataframe thead th {\n",
              "        text-align: right;\n",
              "    }\n",
              "</style>\n",
              "<table border=\"1\" class=\"dataframe\">\n",
              "  <thead>\n",
              "    <tr style=\"text-align: right;\">\n",
              "      <th></th>\n",
              "      <th>Id</th>\n",
              "      <th>Título</th>\n",
              "      <th>Questão</th>\n",
              "      <th>Tags</th>\n",
              "      <th>Pontuação</th>\n",
              "      <th>Visualizações</th>\n",
              "      <th>sem_code_tag</th>\n",
              "    </tr>\n",
              "  </thead>\n",
              "  <tbody>\n",
              "    <tr>\n",
              "      <th>0</th>\n",
              "      <td>11227809</td>\n",
              "      <td>Why is it faster to process a sorted array tha...</td>\n",
              "      <td>&lt;p&gt;Here is a piece of C++ code that seems very...</td>\n",
              "      <td>&lt;java&gt;&lt;c++&gt;&lt;performance&gt;&lt;optimization&gt;&lt;branch-...</td>\n",
              "      <td>23057</td>\n",
              "      <td>1358574</td>\n",
              "      <td>Here is a piece of C++ code that seems very pe...</td>\n",
              "    </tr>\n",
              "    <tr>\n",
              "      <th>1</th>\n",
              "      <td>927358</td>\n",
              "      <td>How do I undo the most recent local commits in...</td>\n",
              "      <td>&lt;p&gt;I accidentally committed the wrong files to...</td>\n",
              "      <td>&lt;git&gt;&lt;version-control&gt;&lt;git-commit&gt;&lt;undo&gt;</td>\n",
              "      <td>19640</td>\n",
              "      <td>7906137</td>\n",
              "      <td>I accidentally committed the wrong files to Gi...</td>\n",
              "    </tr>\n",
              "    <tr>\n",
              "      <th>2</th>\n",
              "      <td>2003505</td>\n",
              "      <td>How do I delete a Git branch locally and remot...</td>\n",
              "      <td>&lt;p&gt;I want to delete a branch both locally and ...</td>\n",
              "      <td>&lt;git&gt;&lt;git-branch&gt;&lt;git-remote&gt;</td>\n",
              "      <td>15249</td>\n",
              "      <td>6940906</td>\n",
              "      <td>I want to delete a branch both locally and rem...</td>\n",
              "    </tr>\n",
              "    <tr>\n",
              "      <th>3</th>\n",
              "      <td>292357</td>\n",
              "      <td>What is the difference between 'git pull' and ...</td>\n",
              "      <td>&lt;blockquote&gt;\\n  &lt;p&gt;&lt;strong&gt;Moderator Note:&lt;/st...</td>\n",
              "      <td>&lt;git&gt;&lt;git-pull&gt;&lt;git-fetch&gt;</td>\n",
              "      <td>11008</td>\n",
              "      <td>2543052</td>\n",
              "      <td>\\n  Moderator Note: Given that this question h...</td>\n",
              "    </tr>\n",
              "    <tr>\n",
              "      <th>4</th>\n",
              "      <td>477816</td>\n",
              "      <td>What is the correct JSON content type?</td>\n",
              "      <td>&lt;p&gt;I've been messing around with &lt;a href=\"http...</td>\n",
              "      <td>&lt;json&gt;&lt;http-headers&gt;&lt;content-type&gt;</td>\n",
              "      <td>9701</td>\n",
              "      <td>2478940</td>\n",
              "      <td>I've been messing around with JSON for some ti...</td>\n",
              "    </tr>\n",
              "  </tbody>\n",
              "</table>\n",
              "</div>\n",
              "      <button class=\"colab-df-convert\" onclick=\"convertToInteractive('df-d1023792-844c-47b6-8921-f0740a30094f')\"\n",
              "              title=\"Convert this dataframe to an interactive table.\"\n",
              "              style=\"display:none;\">\n",
              "        \n",
              "  <svg xmlns=\"http://www.w3.org/2000/svg\" height=\"24px\"viewBox=\"0 0 24 24\"\n",
              "       width=\"24px\">\n",
              "    <path d=\"M0 0h24v24H0V0z\" fill=\"none\"/>\n",
              "    <path d=\"M18.56 5.44l.94 2.06.94-2.06 2.06-.94-2.06-.94-.94-2.06-.94 2.06-2.06.94zm-11 1L8.5 8.5l.94-2.06 2.06-.94-2.06-.94L8.5 2.5l-.94 2.06-2.06.94zm10 10l.94 2.06.94-2.06 2.06-.94-2.06-.94-.94-2.06-.94 2.06-2.06.94z\"/><path d=\"M17.41 7.96l-1.37-1.37c-.4-.4-.92-.59-1.43-.59-.52 0-1.04.2-1.43.59L10.3 9.45l-7.72 7.72c-.78.78-.78 2.05 0 2.83L4 21.41c.39.39.9.59 1.41.59.51 0 1.02-.2 1.41-.59l7.78-7.78 2.81-2.81c.8-.78.8-2.07 0-2.86zM5.41 20L4 18.59l7.72-7.72 1.47 1.35L5.41 20z\"/>\n",
              "  </svg>\n",
              "      </button>\n",
              "      \n",
              "  <style>\n",
              "    .colab-df-container {\n",
              "      display:flex;\n",
              "      flex-wrap:wrap;\n",
              "      gap: 12px;\n",
              "    }\n",
              "\n",
              "    .colab-df-convert {\n",
              "      background-color: #E8F0FE;\n",
              "      border: none;\n",
              "      border-radius: 50%;\n",
              "      cursor: pointer;\n",
              "      display: none;\n",
              "      fill: #1967D2;\n",
              "      height: 32px;\n",
              "      padding: 0 0 0 0;\n",
              "      width: 32px;\n",
              "    }\n",
              "\n",
              "    .colab-df-convert:hover {\n",
              "      background-color: #E2EBFA;\n",
              "      box-shadow: 0px 1px 2px rgba(60, 64, 67, 0.3), 0px 1px 3px 1px rgba(60, 64, 67, 0.15);\n",
              "      fill: #174EA6;\n",
              "    }\n",
              "\n",
              "    [theme=dark] .colab-df-convert {\n",
              "      background-color: #3B4455;\n",
              "      fill: #D2E3FC;\n",
              "    }\n",
              "\n",
              "    [theme=dark] .colab-df-convert:hover {\n",
              "      background-color: #434B5C;\n",
              "      box-shadow: 0px 1px 3px 1px rgba(0, 0, 0, 0.15);\n",
              "      filter: drop-shadow(0px 1px 2px rgba(0, 0, 0, 0.3));\n",
              "      fill: #FFFFFF;\n",
              "    }\n",
              "  </style>\n",
              "\n",
              "      <script>\n",
              "        const buttonEl =\n",
              "          document.querySelector('#df-d1023792-844c-47b6-8921-f0740a30094f button.colab-df-convert');\n",
              "        buttonEl.style.display =\n",
              "          google.colab.kernel.accessAllowed ? 'block' : 'none';\n",
              "\n",
              "        async function convertToInteractive(key) {\n",
              "          const element = document.querySelector('#df-d1023792-844c-47b6-8921-f0740a30094f');\n",
              "          const dataTable =\n",
              "            await google.colab.kernel.invokeFunction('convertToInteractive',\n",
              "                                                     [key], {});\n",
              "          if (!dataTable) return;\n",
              "\n",
              "          const docLinkHtml = 'Like what you see? Visit the ' +\n",
              "            '<a target=\"_blank\" href=https://colab.research.google.com/notebooks/data_table.ipynb>data table notebook</a>'\n",
              "            + ' to learn more about interactive tables.';\n",
              "          element.innerHTML = '';\n",
              "          dataTable['output_type'] = 'display_data';\n",
              "          await google.colab.output.renderOutput(dataTable, element);\n",
              "          const docLink = document.createElement('div');\n",
              "          docLink.innerHTML = docLinkHtml;\n",
              "          element.appendChild(docLink);\n",
              "        }\n",
              "      </script>\n",
              "    </div>\n",
              "  </div>\n",
              "  "
            ]
          },
          "metadata": {},
          "execution_count": 24
        }
      ]
    },
    {
      "cell_type": "code",
      "source": [
        "questoes_espanhol_sem_code = substituir_codigo(dados_espanhol[\"Questão\"], regex_codigo)\n",
        "questoes_espanhol_sem_code[0]\n",
        "\n",
        "questoes_espanhol_sem_code_tag = remover(questoes_espanhol_sem_code, regex_html)\n",
        "questoes_espanhol_sem_code_tag[0]\n",
        "\n",
        "dados_espanhol[\"sem_code_tag\"] = questoes_espanhol_sem_code_tag\n",
        "dados_espanhol.head()"
      ],
      "metadata": {
        "colab": {
          "base_uri": "https://localhost:8080/",
          "height": 634
        },
        "id": "G4QcbiXw5Th8",
        "outputId": "35308323-51e4-4b24-f6b2-f6666a68d195"
      },
      "execution_count": 25,
      "outputs": [
        {
          "output_type": "execute_result",
          "data": {
            "text/plain": [
              "      Id                                             Título  \\\n",
              "0  18232              ¿Cómo evitar la inyección SQL en PHP?   \n",
              "1    197  ¿Por qué mis programas no pueden hacer cálculo...   \n",
              "2     36  ¿Cuál es la diferencia entre un inner y un out...   \n",
              "3  29177  ¿Por qué es considerado una mala práctica util...   \n",
              "4    142  Validar un email en JavaScript que acepte todo...   \n",
              "\n",
              "                                             Questão  \\\n",
              "0  <p>Las sentencias dinámicas son sentencias SQL...   \n",
              "1  <p>Unas veces los cálculos funcionan correctam...   \n",
              "2  <p>¿Cuál es la diferencia entre un <code>inner...   \n",
              "3  <p>La mayoría de nosotros decimos, (muchas vec...   \n",
              "4  <h3>Pregunta</h3>\\n\\n<p>¿Cómo validar un e-mai...   \n",
              "\n",
              "                                                Tags  Pontuação  \\\n",
              "0        <php><mysql><sql><seguridad><inyección-sql>        169   \n",
              "1   <matemáticas><coma-flotante><lenguaje-agnóstico>        141   \n",
              "2                                 <mysql><sql><join>         97   \n",
              "3  <variables><variables-globales><patrones-de-di...         89   \n",
              "4             <javascript><validación><email><regex>         87   \n",
              "\n",
              "   Visualizações                                       sem_code_tag  \n",
              "0          38614  Las sentencias dinámicas son sentencias SQL qu...  \n",
              "1           3860  Unas veces los cálculos funcionan correctament...  \n",
              "2          53627  ¿Cuál es la diferencia entre un CODE y un CODE...  \n",
              "3           9987  La mayoría de nosotros decimos, (muchas veces ...  \n",
              "4          73129  Pregunta\\n\\n¿Cómo validar un e-mail que acepte...  "
            ],
            "text/html": [
              "\n",
              "  <div id=\"df-da24bc4e-d76b-48a6-8592-968681d8c02a\">\n",
              "    <div class=\"colab-df-container\">\n",
              "      <div>\n",
              "<style scoped>\n",
              "    .dataframe tbody tr th:only-of-type {\n",
              "        vertical-align: middle;\n",
              "    }\n",
              "\n",
              "    .dataframe tbody tr th {\n",
              "        vertical-align: top;\n",
              "    }\n",
              "\n",
              "    .dataframe thead th {\n",
              "        text-align: right;\n",
              "    }\n",
              "</style>\n",
              "<table border=\"1\" class=\"dataframe\">\n",
              "  <thead>\n",
              "    <tr style=\"text-align: right;\">\n",
              "      <th></th>\n",
              "      <th>Id</th>\n",
              "      <th>Título</th>\n",
              "      <th>Questão</th>\n",
              "      <th>Tags</th>\n",
              "      <th>Pontuação</th>\n",
              "      <th>Visualizações</th>\n",
              "      <th>sem_code_tag</th>\n",
              "    </tr>\n",
              "  </thead>\n",
              "  <tbody>\n",
              "    <tr>\n",
              "      <th>0</th>\n",
              "      <td>18232</td>\n",
              "      <td>¿Cómo evitar la inyección SQL en PHP?</td>\n",
              "      <td>&lt;p&gt;Las sentencias dinámicas son sentencias SQL...</td>\n",
              "      <td>&lt;php&gt;&lt;mysql&gt;&lt;sql&gt;&lt;seguridad&gt;&lt;inyección-sql&gt;</td>\n",
              "      <td>169</td>\n",
              "      <td>38614</td>\n",
              "      <td>Las sentencias dinámicas son sentencias SQL qu...</td>\n",
              "    </tr>\n",
              "    <tr>\n",
              "      <th>1</th>\n",
              "      <td>197</td>\n",
              "      <td>¿Por qué mis programas no pueden hacer cálculo...</td>\n",
              "      <td>&lt;p&gt;Unas veces los cálculos funcionan correctam...</td>\n",
              "      <td>&lt;matemáticas&gt;&lt;coma-flotante&gt;&lt;lenguaje-agnóstico&gt;</td>\n",
              "      <td>141</td>\n",
              "      <td>3860</td>\n",
              "      <td>Unas veces los cálculos funcionan correctament...</td>\n",
              "    </tr>\n",
              "    <tr>\n",
              "      <th>2</th>\n",
              "      <td>36</td>\n",
              "      <td>¿Cuál es la diferencia entre un inner y un out...</td>\n",
              "      <td>&lt;p&gt;¿Cuál es la diferencia entre un &lt;code&gt;inner...</td>\n",
              "      <td>&lt;mysql&gt;&lt;sql&gt;&lt;join&gt;</td>\n",
              "      <td>97</td>\n",
              "      <td>53627</td>\n",
              "      <td>¿Cuál es la diferencia entre un CODE y un CODE...</td>\n",
              "    </tr>\n",
              "    <tr>\n",
              "      <th>3</th>\n",
              "      <td>29177</td>\n",
              "      <td>¿Por qué es considerado una mala práctica util...</td>\n",
              "      <td>&lt;p&gt;La mayoría de nosotros decimos, (muchas vec...</td>\n",
              "      <td>&lt;variables&gt;&lt;variables-globales&gt;&lt;patrones-de-di...</td>\n",
              "      <td>89</td>\n",
              "      <td>9987</td>\n",
              "      <td>La mayoría de nosotros decimos, (muchas veces ...</td>\n",
              "    </tr>\n",
              "    <tr>\n",
              "      <th>4</th>\n",
              "      <td>142</td>\n",
              "      <td>Validar un email en JavaScript que acepte todo...</td>\n",
              "      <td>&lt;h3&gt;Pregunta&lt;/h3&gt;\\n\\n&lt;p&gt;¿Cómo validar un e-mai...</td>\n",
              "      <td>&lt;javascript&gt;&lt;validación&gt;&lt;email&gt;&lt;regex&gt;</td>\n",
              "      <td>87</td>\n",
              "      <td>73129</td>\n",
              "      <td>Pregunta\\n\\n¿Cómo validar un e-mail que acepte...</td>\n",
              "    </tr>\n",
              "  </tbody>\n",
              "</table>\n",
              "</div>\n",
              "      <button class=\"colab-df-convert\" onclick=\"convertToInteractive('df-da24bc4e-d76b-48a6-8592-968681d8c02a')\"\n",
              "              title=\"Convert this dataframe to an interactive table.\"\n",
              "              style=\"display:none;\">\n",
              "        \n",
              "  <svg xmlns=\"http://www.w3.org/2000/svg\" height=\"24px\"viewBox=\"0 0 24 24\"\n",
              "       width=\"24px\">\n",
              "    <path d=\"M0 0h24v24H0V0z\" fill=\"none\"/>\n",
              "    <path d=\"M18.56 5.44l.94 2.06.94-2.06 2.06-.94-2.06-.94-.94-2.06-.94 2.06-2.06.94zm-11 1L8.5 8.5l.94-2.06 2.06-.94-2.06-.94L8.5 2.5l-.94 2.06-2.06.94zm10 10l.94 2.06.94-2.06 2.06-.94-2.06-.94-.94-2.06-.94 2.06-2.06.94z\"/><path d=\"M17.41 7.96l-1.37-1.37c-.4-.4-.92-.59-1.43-.59-.52 0-1.04.2-1.43.59L10.3 9.45l-7.72 7.72c-.78.78-.78 2.05 0 2.83L4 21.41c.39.39.9.59 1.41.59.51 0 1.02-.2 1.41-.59l7.78-7.78 2.81-2.81c.8-.78.8-2.07 0-2.86zM5.41 20L4 18.59l7.72-7.72 1.47 1.35L5.41 20z\"/>\n",
              "  </svg>\n",
              "      </button>\n",
              "      \n",
              "  <style>\n",
              "    .colab-df-container {\n",
              "      display:flex;\n",
              "      flex-wrap:wrap;\n",
              "      gap: 12px;\n",
              "    }\n",
              "\n",
              "    .colab-df-convert {\n",
              "      background-color: #E8F0FE;\n",
              "      border: none;\n",
              "      border-radius: 50%;\n",
              "      cursor: pointer;\n",
              "      display: none;\n",
              "      fill: #1967D2;\n",
              "      height: 32px;\n",
              "      padding: 0 0 0 0;\n",
              "      width: 32px;\n",
              "    }\n",
              "\n",
              "    .colab-df-convert:hover {\n",
              "      background-color: #E2EBFA;\n",
              "      box-shadow: 0px 1px 2px rgba(60, 64, 67, 0.3), 0px 1px 3px 1px rgba(60, 64, 67, 0.15);\n",
              "      fill: #174EA6;\n",
              "    }\n",
              "\n",
              "    [theme=dark] .colab-df-convert {\n",
              "      background-color: #3B4455;\n",
              "      fill: #D2E3FC;\n",
              "    }\n",
              "\n",
              "    [theme=dark] .colab-df-convert:hover {\n",
              "      background-color: #434B5C;\n",
              "      box-shadow: 0px 1px 3px 1px rgba(0, 0, 0, 0.15);\n",
              "      filter: drop-shadow(0px 1px 2px rgba(0, 0, 0, 0.3));\n",
              "      fill: #FFFFFF;\n",
              "    }\n",
              "  </style>\n",
              "\n",
              "      <script>\n",
              "        const buttonEl =\n",
              "          document.querySelector('#df-da24bc4e-d76b-48a6-8592-968681d8c02a button.colab-df-convert');\n",
              "        buttonEl.style.display =\n",
              "          google.colab.kernel.accessAllowed ? 'block' : 'none';\n",
              "\n",
              "        async function convertToInteractive(key) {\n",
              "          const element = document.querySelector('#df-da24bc4e-d76b-48a6-8592-968681d8c02a');\n",
              "          const dataTable =\n",
              "            await google.colab.kernel.invokeFunction('convertToInteractive',\n",
              "                                                     [key], {});\n",
              "          if (!dataTable) return;\n",
              "\n",
              "          const docLinkHtml = 'Like what you see? Visit the ' +\n",
              "            '<a target=\"_blank\" href=https://colab.research.google.com/notebooks/data_table.ipynb>data table notebook</a>'\n",
              "            + ' to learn more about interactive tables.';\n",
              "          element.innerHTML = '';\n",
              "          dataTable['output_type'] = 'display_data';\n",
              "          await google.colab.output.renderOutput(dataTable, element);\n",
              "          const docLink = document.createElement('div');\n",
              "          docLink.innerHTML = docLinkHtml;\n",
              "          element.appendChild(docLink);\n",
              "        }\n",
              "      </script>\n",
              "    </div>\n",
              "  </div>\n",
              "  "
            ]
          },
          "metadata": {},
          "execution_count": 25
        }
      ]
    },
    {
      "cell_type": "code",
      "source": [
        "questoes_port_sem_code_tag_pont = remover(dados_portugues[\"sem_code_tag\"], regex_pontuacao)\n",
        "questoes_port_sem_code_tag_pont_minusculo = minusculo(questoes_port_sem_code_tag_pont)\n",
        "questoes_port_sem_code_tag_pont_minusculo_dig = remover(questoes_port_sem_code_tag_pont_minusculo, regex_digitos)\n",
        "questoes_port_sem_code_tag_pont_minusculo_dig_quebralinha = substituir_espaco(questoes_port_sem_code_tag_pont_minusculo_dig, regex_quebra_linha)\n",
        "questoes_port_sem_code_tag_pont_minusculo_dig_quebralinha_espacoduplicado = substituir_espaco(questoes_port_sem_code_tag_pont_minusculo_dig_quebralinha, regex_espaco_duplicado)"
      ],
      "metadata": {
        "id": "uNlmi174Ak2U"
      },
      "execution_count": 26,
      "outputs": []
    },
    {
      "cell_type": "code",
      "source": [
        "dados_portugues[\"questoes_tratadas\"] = questoes_port_sem_code_tag_pont_minusculo_dig_quebralinha_espacoduplicado\n",
        "dados_portugues[\"questoes_tratadas\"][0]"
      ],
      "metadata": {
        "colab": {
          "base_uri": "https://localhost:8080/",
          "height": 163
        },
        "id": "rN72TUeyAXA6",
        "outputId": "738f1243-2014-4ad4-feae-a8fe584e274c"
      },
      "execution_count": 27,
      "outputs": [
        {
          "output_type": "execute_result",
          "data": {
            "text/plain": [
              "'se eu fizer o hash de senhas antes de armazenálas em meu banco de dados é suficiente para evitar que elas sejam recuperadas por alguém estou falando apenas da recuperação diretamente do banco de dados e não qualquer outro tipo de ataque como força bruta na página de login da aplicação keylogger no cliente e criptoanálise rubberhose qualquer forma de hash não vai impedir esses ataques tenho preocupação em dificultar ou até impossibilitar a obtenção das senhas originais caso o banco de dados seja comprometido como dar maior garantia de segurança neste aspecto quais preocupações adicionais evitariam o acesso às senhas existem formas melhores de fazer esse hash '"
            ],
            "application/vnd.google.colaboratory.intrinsic+json": {
              "type": "string"
            }
          },
          "metadata": {},
          "execution_count": 27
        }
      ]
    },
    {
      "cell_type": "code",
      "source": [
        "questoes_ingles_sem_code_tag_pont = remover(dados_ingles[\"sem_code_tag\"], regex_pontuacao)\n",
        "questoes_ingles_sem_code_tag_pont_minusculo = minusculo(questoes_ingles_sem_code_tag_pont)\n",
        "questoes_ingles_sem_code_tag_pont_minusculo_dig = remover(questoes_ingles_sem_code_tag_pont_minusculo, regex_digitos)\n",
        "questoes_ingles_sem_code_tag_pont_minusculo_dig_quebralinha = substituir_espaco(questoes_ingles_sem_code_tag_pont_minusculo_dig, regex_quebra_linha)\n",
        "questoes_ingles_sem_code_tag_pont_minusculo_dig_quebralinha_espacoduplicado = substituir_espaco(questoes_ingles_sem_code_tag_pont_minusculo_dig_quebralinha, regex_espaco_duplicado)"
      ],
      "metadata": {
        "id": "L6xi9hDlBaI1"
      },
      "execution_count": 28,
      "outputs": []
    },
    {
      "cell_type": "code",
      "source": [
        "dados_ingles[\"questoes_tratadas\"] = questoes_ingles_sem_code_tag_pont_minusculo_dig_quebralinha_espacoduplicado\n",
        "dados_ingles[\"questoes_tratadas\"][0]"
      ],
      "metadata": {
        "colab": {
          "base_uri": "https://localhost:8080/",
          "height": 163
        },
        "id": "0QKnKEuRIAGu",
        "outputId": "c427d348-4bcc-4dfc-f460-cca9fbace68a"
      },
      "execution_count": 29,
      "outputs": [
        {
          "output_type": "execute_result",
          "data": {
            "text/plain": [
              "'here is a piece of c code that seems very peculiar for some strange reason sorting the data miraculously makes the code almost six times faster code without code the code runs in seconds with the sorted data the code runs in seconds initially i thought this might be just a language or compiler anomaly so i tried it in java code with a somewhat similar but less extreme result my first thought was that sorting brings the data into the cache but then i thought how silly that is because the array was just generated what is going on why is it faster to process a sorted array than an unsorted array the code is summing up some independent terms and the order should not matter '"
            ],
            "application/vnd.google.colaboratory.intrinsic+json": {
              "type": "string"
            }
          },
          "metadata": {},
          "execution_count": 29
        }
      ]
    },
    {
      "cell_type": "code",
      "source": [
        "questoes_espanhol_sem_code_tag_pont = remover(dados_espanhol[\"sem_code_tag\"], regex_pontuacao)\n",
        "questoes_espanhol_sem_code_tag_pont_minusculo = minusculo(questoes_espanhol_sem_code_tag_pont)\n",
        "questoes_espanhol_sem_code_tag_pont_minusculo_dig = remover(questoes_espanhol_sem_code_tag_pont_minusculo, regex_digitos)\n",
        "questoes_espanhol_sem_code_tag_pont_minusculo_dig_quebralinha = substituir_espaco(questoes_espanhol_sem_code_tag_pont_minusculo_dig, regex_quebra_linha)\n",
        "questoes_espanhol_sem_code_tag_pont_minusculo_dig_quebralinha_espacoduplicado = substituir_espaco(questoes_espanhol_sem_code_tag_pont_minusculo_dig_quebralinha, regex_espaco_duplicado)"
      ],
      "metadata": {
        "id": "3fqW4d5BIGok"
      },
      "execution_count": 30,
      "outputs": []
    },
    {
      "cell_type": "code",
      "source": [
        "dados_espanhol[\"questoes_tratadas\"] = questoes_espanhol_sem_code_tag_pont_minusculo_dig_quebralinha_espacoduplicado\n",
        "dados_espanhol[\"questoes_tratadas\"][0]"
      ],
      "metadata": {
        "colab": {
          "base_uri": "https://localhost:8080/",
          "height": 163
        },
        "id": "bB_S1MNSIclf",
        "outputId": "4a46d4ab-72cb-4f62-837b-23f209aa3e15"
      },
      "execution_count": 31,
      "outputs": [
        {
          "output_type": "execute_result",
          "data": {
            "text/plain": [
              "'las sentencias dinámicas son sentencias sql que se crean como cadenas de texto strings y en las que se insertanconcatenan valores obtenidos de alguna fuente normalmente proveniente del usuario lo que puede hacer que sean vulnerables a inyección sql si no se sanean las entradas como por ejemplo code eso es un ejemplo de una vulnerabilidad grave en la seguridad de una aplicación web o no porque si el usuario introdujese un valor como code nos encontraríamos con que la sentencia ejecutada sería code y se eliminaría la tabla usuarios con todos los datos contenidos en ella cómo puedo evitar que la inyección sql ocurra en php '"
            ],
            "application/vnd.google.colaboratory.intrinsic+json": {
              "type": "string"
            }
          },
          "metadata": {},
          "execution_count": 31
        }
      ]
    },
    {
      "cell_type": "markdown",
      "source": [
        "# **Bigrama**"
      ],
      "metadata": {
        "id": "51VahnM2ENIT"
      }
    },
    {
      "cell_type": "code",
      "source": [
        "from nltk.util import bigrams"
      ],
      "metadata": {
        "id": "NFKL23n_DXva"
      },
      "execution_count": 32,
      "outputs": []
    },
    {
      "cell_type": "code",
      "source": [
        "texto_teste = 'alura'\n",
        "print(list(bigrams(texto_teste)))"
      ],
      "metadata": {
        "colab": {
          "base_uri": "https://localhost:8080/"
        },
        "id": "a3k8M9bCEr5U",
        "outputId": "6b182c3f-9a77-4bb6-c729-de02a568909c"
      },
      "execution_count": 33,
      "outputs": [
        {
          "output_type": "stream",
          "name": "stdout",
          "text": [
            "[('a', 'l'), ('l', 'u'), ('u', 'r'), ('r', 'a')]\n"
          ]
        }
      ]
    },
    {
      "cell_type": "code",
      "source": [
        "# Adição Caracteres Falsos\n",
        "from nltk.lm.preprocessing import pad_both_ends\n",
        "print(list(bigrams(pad_both_ends(texto_teste, n = 2))))"
      ],
      "metadata": {
        "colab": {
          "base_uri": "https://localhost:8080/"
        },
        "id": "9OrJwO7sEzTY",
        "outputId": "7fe9b6fd-9969-4739-8637-7bd465a4166d"
      },
      "execution_count": 34,
      "outputs": [
        {
          "output_type": "stream",
          "name": "stdout",
          "text": [
            "[('<s>', 'a'), ('a', 'l'), ('l', 'u'), ('u', 'r'), ('r', 'a'), ('a', '</s>')]\n"
          ]
        }
      ]
    },
    {
      "cell_type": "markdown",
      "source": [
        "# **Criando Dados de Treino e Teste**"
      ],
      "metadata": {
        "id": "oL7Gc6LUGqxr"
      }
    },
    {
      "cell_type": "code",
      "source": [
        "dados_portugues['idioma'] = \"port\"\n",
        "dados_espanhol['idioma'] = 'espanhol'\n",
        "dados_ingles[\"ingles\"] = \"ingles\""
      ],
      "metadata": {
        "id": "UIbonrp2F9dw"
      },
      "execution_count": 35,
      "outputs": []
    },
    {
      "cell_type": "code",
      "source": [
        "# Separando dados em treino e teste\n",
        "from sklearn.model_selection import train_test_split\n",
        "len(dados_espanhol) # saber o tamanho\n",
        "\n",
        "port_treino, port_teste = train_test_split(dados_portugues[\"questoes_tratadas\"], test_size = 0.2, random_state = 123)\n",
        "espanhol_treino, espanhol_teste = train_test_split(dados_espanhol[\"questoes_tratadas\"], test_size = 0.2, random_state = 123)\n",
        "ingles_treino, ingles_teste = train_test_split(dados_ingles[\"questoes_tratadas\"], test_size = 0.2, random_state = 123)\n",
        "\n",
        "# Uma unica linha com todas as questoes\n",
        "todas_questoes_port = \" \".join(port_treino)\n",
        "\n",
        "# Separando cada palavra por espaço em branco\n",
        "from nltk.tokenize import WhitespaceTokenizer\n",
        "todas_palavras_port = WhitespaceTokenizer().tokenize(todas_questoes_port)\n",
        "todas_palavras_port\n",
        "\n",
        "# Transformar cada palavra em um bigrama adicionado de um fake chart\n",
        "from nltk.lm.preprocessing import padded_everygram_pipeline\n",
        "port_treino_bigram, vocab_port = padded_everygram_pipeline(2, todas_palavras_port)"
      ],
      "metadata": {
        "id": "-HS0zZEaG5q6"
      },
      "execution_count": 36,
      "outputs": []
    },
    {
      "cell_type": "code",
      "source": [
        "todas_questoes_ingles = \" \".join(ingles_treino)\n",
        "todas_palavras_ingles = WhitespaceTokenizer().tokenize(todas_questoes_ingles)\n",
        "todas_palavras_ingles\n",
        "\n",
        "ingles_treino_bigram, vocab_ingles = padded_everygram_pipeline(2, todas_palavras_ingles)"
      ],
      "metadata": {
        "id": "QH62XydVpkTM"
      },
      "execution_count": 37,
      "outputs": []
    },
    {
      "cell_type": "code",
      "source": [
        "todas_questoes_espanhol = \" \".join(espanhol_treino)\n",
        "todas_palavras_espanhol = WhitespaceTokenizer().tokenize(todas_questoes_espanhol)\n",
        "todas_palavras_espanhol\n",
        "\n",
        "espanhol_treino_bigram, vocab_espanhol = padded_everygram_pipeline(2, todas_palavras_espanhol)"
      ],
      "metadata": {
        "id": "AtrNj1jzp57g"
      },
      "execution_count": 38,
      "outputs": []
    },
    {
      "cell_type": "markdown",
      "source": [
        "# **Treinando o Modelo - MLE**"
      ],
      "metadata": {
        "id": "NEU7I-UnLECz"
      }
    },
    {
      "cell_type": "code",
      "source": [
        "from nltk.lm import MLE\n",
        "# Criando o modelo\n",
        "modelo_port = MLE(2)\n",
        "# Treinando o modelo\n",
        "modelo_port.fit(port_treino_bigram, vocab_port)"
      ],
      "metadata": {
        "id": "ljlkyw16JlgA"
      },
      "execution_count": 39,
      "outputs": []
    },
    {
      "cell_type": "code",
      "source": [
        "modelo_espanhol = MLE(2)\n",
        "modelo_espanhol.fit(espanhol_treino_bigram, vocab_espanhol)\n",
        "\n",
        "modelo_ingles = MLE(2)\n",
        "modelo_ingles.fit(ingles_treino_bigram, vocab_ingles)"
      ],
      "metadata": {
        "id": "x3_MnGDVqM74"
      },
      "execution_count": 40,
      "outputs": []
    },
    {
      "cell_type": "code",
      "source": [
        "# Gerando uma palavra passando o numero de caracteres\n",
        "modelo_port.generate(num_words = 6)"
      ],
      "metadata": {
        "colab": {
          "base_uri": "https://localhost:8080/"
        },
        "id": "Cv-diuqPLUEo",
        "outputId": "6f3a5cd6-78b1-48db-e5bf-6615c0ff4678"
      },
      "execution_count": 41,
      "outputs": [
        {
          "output_type": "execute_result",
          "data": {
            "text/plain": [
              "['o', 'r', 'o', '</s>', 'e', 'v']"
            ]
          },
          "metadata": {},
          "execution_count": 41
        }
      ]
    },
    {
      "cell_type": "code",
      "source": [
        "from nltk.lm import NgramCounter\n",
        "# Qual a probabilidade de cada letra aparecer posterior a um \"m\"\n",
        "modelo_port.counts[['m']].items()"
      ],
      "metadata": {
        "colab": {
          "base_uri": "https://localhost:8080/"
        },
        "id": "rIlnz1YSL7oI",
        "outputId": "92b6d9df-5776-40e5-be9b-bbb38cf911b4"
      },
      "execution_count": 42,
      "outputs": [
        {
          "output_type": "execute_result",
          "data": {
            "text/plain": [
              "dict_items([('</s>', 2741), ('a', 2052), ('b', 144), ('p', 722), ('o', 854), ('e', 1503), ('u', 227), ('v', 16), ('í', 13), ('i', 290), ('ó', 37), ('â', 11), ('l', 23), ('é', 76), ('ú', 5), ('ã', 4), ('á', 32), ('s', 9), ('m', 25), ('g', 4), ('w', 1), ('_', 1), ('y', 10), ('d', 3)])"
            ]
          },
          "metadata": {},
          "execution_count": 42
        }
      ]
    },
    {
      "cell_type": "code",
      "source": [
        "# Menor perplexicidade melhor\n",
        "#modelo_port.perplexity()"
      ],
      "metadata": {
        "id": "FspDOehfMe6N"
      },
      "execution_count": 43,
      "outputs": []
    },
    {
      "cell_type": "markdown",
      "source": [
        "# **Generalizando**"
      ],
      "metadata": {
        "id": "DaDmgsKNOiXD"
      }
    },
    {
      "cell_type": "markdown",
      "source": [
        "## **Treinar Modelo**"
      ],
      "metadata": {
        "id": "-QiabyerOl_I"
      }
    },
    {
      "cell_type": "code",
      "source": [
        "def treinar_modelo_MLE(lista_textos):\n",
        "    todas_questoes = ' '.join(lista_textos)\n",
        "    todas_palavras = WhitespaceTokenizer().tokenize(todas_questoes)\n",
        "    bigrams, vocabulario = padded_everygram_pipeline(2, todas_palavras)\n",
        "    modelo = MLE(2)\n",
        "    modelo.fit(bigrams, vocabulario)\n",
        "    \n",
        "    return modelo"
      ],
      "metadata": {
        "id": "Fp1tH-Y8ORFH"
      },
      "execution_count": 59,
      "outputs": []
    },
    {
      "cell_type": "markdown",
      "source": [
        "## **Perplexidade**"
      ],
      "metadata": {
        "id": "Ogor3PRUS8A5"
      }
    },
    {
      "cell_type": "code",
      "source": [
        "def calc_perplexicidade(modelo, texto):\n",
        "\n",
        "  perplexidade = 0\n",
        "  palavras = WhitespaceTokenizer().tokenize(texto)\n",
        "  palavras_fakechar = [list(pad_both_ends(palavra, n = 2)) for palavra in palavras]\n",
        "  palavra_bigramns = [list(bigrams(palavra)) for palavra in palavras_fakechar]\n",
        "\n",
        "  for palavra in palavra_bigramns:\n",
        "    perplexidade += modelo.perplexity(palavra)\n",
        "  \n",
        "  return perplexidade\n",
        "\n"
      ],
      "metadata": {
        "id": "F8w1xI5fPVe_"
      },
      "execution_count": 57,
      "outputs": []
    },
    {
      "cell_type": "code",
      "source": [
        "print(calc_perplexicidade(modelo_port, port_teste.iloc[0]))"
      ],
      "metadata": {
        "colab": {
          "base_uri": "https://localhost:8080/"
        },
        "id": "kA_ASFofUKX8",
        "outputId": "5428002b-0d34-475a-937f-4a5dbae4b948"
      },
      "execution_count": 46,
      "outputs": [
        {
          "output_type": "stream",
          "name": "stdout",
          "text": [
            "2006.9786364086417\n"
          ]
        }
      ]
    },
    {
      "cell_type": "markdown",
      "source": [
        "## **Perplexidade Infinita**\n",
        "\n",
        "Quando a probabilidade de algo é 0. Ao realizarmos a perplexidade acabamos com uma divisão por 0.\n",
        "\n",
        "Modelo de Laplace impede essa perplexidade infinita, impedindo que a probabilidade seja infinita."
      ],
      "metadata": {
        "id": "OTa0e7DrOQSx"
      }
    },
    {
      "cell_type": "code",
      "source": [
        "from nltk.lm import Laplace\n",
        "\n",
        "def treinar_modelo_Laplace(lista_textos):\n",
        "    todas_questoes = ' '.join(lista_textos)\n",
        "    todas_palavras = WhitespaceTokenizer().tokenize(todas_questoes)\n",
        "    bigrams, vocabulario = padded_everygram_pipeline(2, todas_palavras)\n",
        "    modelo = Laplace(2)\n",
        "    modelo.fit(bigrams, vocabulario)\n",
        "    \n",
        "    return modelo"
      ],
      "metadata": {
        "id": "O_tGpb1yUqvs"
      },
      "execution_count": 54,
      "outputs": []
    },
    {
      "cell_type": "code",
      "source": [
        "modelo_ing_Laplace = treinar_modelo_Laplace(ingles_treino)\n",
        "print(calc_perplexicidade(modelo_ing_Laplace, port_teste.iloc[0]))\n",
        "\n",
        "modelo_espanhol_Laplace = treinar_modelo_Laplace(espanhol_treino)\n",
        "print(calc_perplexicidade(modelo_espanhol_Laplace, port_teste.iloc[0]))\n",
        "\n",
        "modelo_port_Laplace = treinar_modelo_Laplace(port_treino)\n",
        "print(calc_perplexicidade(modelo_port_Laplace, port_teste.iloc[0]))"
      ],
      "metadata": {
        "colab": {
          "base_uri": "https://localhost:8080/"
        },
        "id": "ywLue-HwQ4sZ",
        "outputId": "d64ee624-bd7e-43fe-efe6-4da6d6eb1f48"
      },
      "execution_count": 60,
      "outputs": [
        {
          "output_type": "stream",
          "name": "stdout",
          "text": [
            "5876.837588345698\n",
            "3461.1385826250985\n",
            "2009.1937946178912\n"
          ]
        }
      ]
    },
    {
      "cell_type": "markdown",
      "source": [
        "# **Identificando idioma da frase**"
      ],
      "metadata": {
        "id": "n2qV-XTsRpkS"
      }
    },
    {
      "cell_type": "code",
      "source": [
        "def atribuir_idioma(lista_textos):\n",
        "  idioma = []\n",
        "  for texto in lista_textos:\n",
        "    portugues = calc_perplexicidade(modelo_port_Laplace, texto)\n",
        "    ingles = calc_perplexicidade(modelo_ing_Laplace, texto)\n",
        "    espanhol = calc_perplexicidade(modelo_espanhol_Laplace, texto)\n",
        "\n",
        "    if ingles >= portugues <= espanhol:\n",
        "      idioma.append(\"portugues\")\n",
        "    elif portugues > ingles < espanhol:\n",
        "      idioma.append(\"ingles\")\n",
        "    else:\n",
        "      idioma.append(\"espanhol\")\n",
        "\n",
        "  return idioma"
      ],
      "metadata": {
        "id": "uhtsazLyPwhL"
      },
      "execution_count": 65,
      "outputs": []
    },
    {
      "cell_type": "code",
      "source": [
        "resultados_portugues = atribuir_idioma(port_teste)\n",
        "resultados_espanhol = atribuir_idioma(espanhol_teste)\n",
        "resultados_ingles = atribuir_idioma(ingles_teste)\n"
      ],
      "metadata": {
        "id": "UjnQsR-0TBCa"
      },
      "execution_count": 68,
      "outputs": []
    },
    {
      "cell_type": "code",
      "source": [
        "taxa_acerto_portugues = resultados_portugues.count(\"portugues\") / len(resultados_portugues)\n",
        "taxa_acerto_espanhol = resultados_espanhol.count(\"espanhol\") / len(resultados_espanhol)\n",
        "taxa_acerto_ingles = resultados_ingles.count(\"ingles\") / len(resultados_ingles)\n",
        "\n",
        "print(taxa_acerto_portugues, taxa_acerto_espanhol, taxa_acerto_espanhol)\n"
      ],
      "metadata": {
        "colab": {
          "base_uri": "https://localhost:8080/"
        },
        "id": "ByNLcE2oTHyU",
        "outputId": "d5dc9093-8f69-49f5-d209-4a61b00ce86d"
      },
      "execution_count": 69,
      "outputs": [
        {
          "output_type": "stream",
          "name": "stdout",
          "text": [
            "1.0 0.97 0.97\n"
          ]
        }
      ]
    },
    {
      "cell_type": "code",
      "source": [],
      "metadata": {
        "id": "g3xHtxkOTj_u"
      },
      "execution_count": null,
      "outputs": []
    }
  ]
}