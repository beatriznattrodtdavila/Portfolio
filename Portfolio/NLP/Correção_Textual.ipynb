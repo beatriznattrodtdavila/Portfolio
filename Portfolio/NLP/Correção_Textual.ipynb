{
  "nbformat": 4,
  "nbformat_minor": 0,
  "metadata": {
    "colab": {
      "provenance": []
    },
    "kernelspec": {
      "name": "python3",
      "display_name": "Python 3"
    },
    "language_info": {
      "name": "python"
    }
  },
  "cells": [
    {
      "cell_type": "code",
      "source": [
        "import nltk"
      ],
      "metadata": {
        "id": "Mly5tgiNQuvH"
      },
      "execution_count": 39,
      "outputs": []
    },
    {
      "cell_type": "markdown",
      "source": [
        "# **Carregando Corpus para o NLP**"
      ],
      "metadata": {
        "id": "BJyHBi-bMO1Z"
      }
    },
    {
      "cell_type": "code",
      "execution_count": 40,
      "metadata": {
        "colab": {
          "base_uri": "https://localhost:8080/"
        },
        "id": "D5FzHuUiJfxE",
        "outputId": "74ee8798-5ffd-482b-80b1-0789c0dc60a2"
      },
      "outputs": [
        {
          "output_type": "stream",
          "name": "stdout",
          "text": [
            "\n",
            "\n",
            "\n",
            "imagem \n",
            "\n",
            "Temos a seguinte classe que representa um usuário no nosso sistema:\n",
            "\n",
            "java\n",
            "\n",
            "Para salvar um novo usuário, várias validações são feitas, como por exemplo: Ver se o nome só contém letras, [**o CPF só números**] e ver se o usuário possui no mínimo 18 anos. Veja o método que faz essa validação:\n",
            "\n",
            "java \n",
            "\n",
            "Suponha agora que eu tenha outra classe, a classe `Produto`, que contém um atributo nome e eu quero fazer a mesma validação que fiz para o nome do usuário: Ver se só contém letras. E aí? Vou\n"
          ]
        }
      ],
      "source": [
        " with open(\"artigos.txt\", \"r\") as f:\n",
        "   artigos = f.read()\n",
        "\n",
        "   print(artigos[0:500])"
      ]
    },
    {
      "cell_type": "markdown",
      "source": [
        "## **Quantidade de Tokens e Palavras que o Corpus Possui**"
      ],
      "metadata": {
        "id": "BkcsNHL6NOU6"
      }
    },
    {
      "cell_type": "code",
      "source": [
        "texto_exemplo = \"Olá, tudo bem?\"\n",
        "tokens = texto_exemplo.split()\n",
        "print(tokens) # temos 4 tokens"
      ],
      "metadata": {
        "colab": {
          "base_uri": "https://localhost:8080/"
        },
        "id": "QfpyAs7-MxKT",
        "outputId": "e1a2a272-6fa3-4a60-f993-097bc64ee876"
      },
      "execution_count": 41,
      "outputs": [
        {
          "output_type": "stream",
          "name": "stdout",
          "text": [
            "['Olá,', 'tudo', 'bem?']\n"
          ]
        }
      ]
    },
    {
      "cell_type": "code",
      "source": [
        "#word_tokenize separa tokens de palavras e tokens de pontuação\n",
        "#temos que passar o corpus como parametro\n",
        "nltk.download('punkt')\n",
        "palavras_separadas = nltk.tokenize.word_tokenize(texto_exemplo)"
      ],
      "metadata": {
        "id": "SI32UZ4HN5F2",
        "colab": {
          "base_uri": "https://localhost:8080/"
        },
        "outputId": "b390f01c-1227-4cf0-93ac-5b7cadbe192e"
      },
      "execution_count": 42,
      "outputs": [
        {
          "output_type": "stream",
          "name": "stderr",
          "text": [
            "[nltk_data] Downloading package punkt to /root/nltk_data...\n",
            "[nltk_data]   Package punkt is already up-to-date!\n"
          ]
        }
      ]
    },
    {
      "cell_type": "code",
      "source": [
        "print(palavras_separadas) # 5 tokens"
      ],
      "metadata": {
        "colab": {
          "base_uri": "https://localhost:8080/"
        },
        "id": "1yoIX3AGP2Ip",
        "outputId": "197f8db1-cea0-4ca5-a020-8f4ed27a7c89"
      },
      "execution_count": 43,
      "outputs": [
        {
          "output_type": "stream",
          "name": "stdout",
          "text": [
            "['Olá', ',', 'tudo', 'bem', '?']\n"
          ]
        }
      ]
    },
    {
      "cell_type": "code",
      "source": [
        "# temos uma função no python que percorre todos os caracteres de uma string e pergunta se é um caracter alfabetico\n",
        "\"palavras\".isalpha()\n",
        "\".\".isalpha()"
      ],
      "metadata": {
        "colab": {
          "base_uri": "https://localhost:8080/"
        },
        "id": "HbrzA7_uTCEx",
        "outputId": "9ac6b344-c70d-4e75-cf45-19e9951ffa8e"
      },
      "execution_count": 44,
      "outputs": [
        {
          "output_type": "execute_result",
          "data": {
            "text/plain": [
              "False"
            ]
          },
          "metadata": {},
          "execution_count": 44
        }
      ]
    },
    {
      "cell_type": "code",
      "source": [
        "# função para separar pontuacao de palavras\n",
        "def separa_palavras(lista_tokens):\n",
        "  lista_palavras = []\n",
        "  for token in lista_tokens:\n",
        "    if token.isalpha():\n",
        "      lista_palavras.append(token)\n",
        "  return lista_palavras\n",
        "\n",
        "separa_palavras(palavras_separadas)"
      ],
      "metadata": {
        "colab": {
          "base_uri": "https://localhost:8080/"
        },
        "id": "zpV5BSn9R7WR",
        "outputId": "04367aaa-4cb2-4fbf-f078-fc374f7c075f"
      },
      "execution_count": 45,
      "outputs": [
        {
          "output_type": "execute_result",
          "data": {
            "text/plain": [
              "['Olá', 'tudo', 'bem']"
            ]
          },
          "metadata": {},
          "execution_count": 45
        }
      ]
    },
    {
      "cell_type": "code",
      "source": [
        "# Criando uma lista de tokens do nosso corpus\n",
        "lista_tokens = nltk.tokenize.word_tokenize(artigos)"
      ],
      "metadata": {
        "id": "3fuDVJd_UYDG"
      },
      "execution_count": 46,
      "outputs": []
    },
    {
      "cell_type": "code",
      "source": [
        "# Criando uma lista de palavras do nosso corpus atraves da função separa_palavras\n",
        "lista_palavras = separa_palavras(lista_tokens)\n",
        "\n",
        "# Vendo a quantidade de palavras\n",
        "print(f\"O numero de palavras é {len(lista_palavras)}\") # pode haver palavras repetidas aqui"
      ],
      "metadata": {
        "colab": {
          "base_uri": "https://localhost:8080/"
        },
        "id": "rvW9op6jT5Qk",
        "outputId": "a2a3a5d3-dda5-47eb-e83d-17d19d7cdbd2"
      },
      "execution_count": 47,
      "outputs": [
        {
          "output_type": "stream",
          "name": "stdout",
          "text": [
            "O numero de palavras é 403104\n"
          ]
        }
      ]
    },
    {
      "cell_type": "markdown",
      "source": [
        "# **Quantidade de Tipos de Palavras que Nosso Corpus Possui**"
      ],
      "metadata": {
        "id": "VEo6Su1EXWFF"
      }
    },
    {
      "cell_type": "code",
      "source": [
        "print(lista_palavras[0:5])"
      ],
      "metadata": {
        "colab": {
          "base_uri": "https://localhost:8080/"
        },
        "id": "fnOMCB19Vpza",
        "outputId": "d2e5804b-b61a-4e83-ad02-9aee6a1931ff"
      },
      "execution_count": 48,
      "outputs": [
        {
          "output_type": "stream",
          "name": "stdout",
          "text": [
            "['imagem', 'Temos', 'a', 'seguinte', 'classe']\n"
          ]
        }
      ]
    },
    {
      "cell_type": "code",
      "source": [
        "# Temos que normalizar o texto (transformar todas as letras do texto em letras minusculas, para não contabilizar a mesma palavras mais de uma vez por causa de letra maiuscula e minuscula)\n",
        "def normalizacao(lista_palavras):\n",
        "  lista_normalizada = []\n",
        "  for palavra in lista_palavras:\n",
        "    lista_normalizada.append(palavra.lower())\n",
        "  return lista_normalizada\n",
        "\n",
        "lista_normalizada = normalizacao(lista_palavras)\n",
        "print(lista_normalizada[0:5])"
      ],
      "metadata": {
        "colab": {
          "base_uri": "https://localhost:8080/"
        },
        "id": "pZQSw4i2Xkuu",
        "outputId": "3896e3c2-54d5-45b9-97dc-1982e73d1040"
      },
      "execution_count": 49,
      "outputs": [
        {
          "output_type": "stream",
          "name": "stdout",
          "text": [
            "['imagem', 'temos', 'a', 'seguinte', 'classe']\n"
          ]
        }
      ]
    },
    {
      "cell_type": "code",
      "source": [
        "# Removendo palavras repetidas\n",
        "set(lista_normalizada) # pega uma lista e a retorna sem elementos repetidos\n",
        "len(set(lista_normalizada))"
      ],
      "metadata": {
        "colab": {
          "base_uri": "https://localhost:8080/"
        },
        "id": "-ny4pH7DYkuK",
        "outputId": "aa1db79d-ad95-436b-eb92-891e354ef6f7"
      },
      "execution_count": 50,
      "outputs": [
        {
          "output_type": "execute_result",
          "data": {
            "text/plain": [
              "18465"
            ]
          },
          "metadata": {},
          "execution_count": 50
        }
      ]
    },
    {
      "cell_type": "markdown",
      "source": [
        "# **Criando nosso corretor para Letras Faltantes**"
      ],
      "metadata": {
        "id": "lXpTUJn4bRAe"
      }
    },
    {
      "cell_type": "markdown",
      "source": [
        "## **Separando as letras da palavra e inserindo letras**"
      ],
      "metadata": {
        "id": "JmW3-q8NbVMv"
      }
    },
    {
      "cell_type": "code",
      "source": [
        "palavra_exemplo = 'lgica'\n",
        "lista = \"lgica\"\n",
        "\n",
        "def insere_letras(fatias):\n",
        "  novas_palavras = []\n",
        "  letras = 'abcdefghijklmnopqrstuvwxyzàáâãèéêìíîòóôõùúûç'\n",
        "  for E, D in fatias:\n",
        "    for letra in letras:\n",
        "      novas_palavras.append(E + letra + D)\n",
        "  return novas_palavras\n",
        "\n",
        "def gerador_palavras(palavra):\n",
        "  # Separando as letras\n",
        "  fatias = []\n",
        "  for i in range(len(palavra) + 1):\n",
        "    fatias.append((palavra[:i], palavra[i:]))\n",
        "  # Inserindo letras entre as letras separadas\n",
        "  palavras_geradas = insere_letras(fatias)\n",
        "  return palavras_geradas\n",
        "\n",
        "palavras_geradas = gerador_palavras(palavra_exemplo)\n",
        "print(palavras_geradas)"
      ],
      "metadata": {
        "colab": {
          "base_uri": "https://localhost:8080/"
        },
        "id": "id5OChRxZFmv",
        "outputId": "0c7bfd64-e569-425f-8b03-7d148fb79ad1"
      },
      "execution_count": 51,
      "outputs": [
        {
          "output_type": "stream",
          "name": "stdout",
          "text": [
            "['algica', 'blgica', 'clgica', 'dlgica', 'elgica', 'flgica', 'glgica', 'hlgica', 'ilgica', 'jlgica', 'klgica', 'llgica', 'mlgica', 'nlgica', 'olgica', 'plgica', 'qlgica', 'rlgica', 'slgica', 'tlgica', 'ulgica', 'vlgica', 'wlgica', 'xlgica', 'ylgica', 'zlgica', 'àlgica', 'álgica', 'âlgica', 'ãlgica', 'èlgica', 'élgica', 'êlgica', 'ìlgica', 'ílgica', 'îlgica', 'òlgica', 'ólgica', 'ôlgica', 'õlgica', 'ùlgica', 'úlgica', 'ûlgica', 'çlgica', 'lagica', 'lbgica', 'lcgica', 'ldgica', 'legica', 'lfgica', 'lggica', 'lhgica', 'ligica', 'ljgica', 'lkgica', 'llgica', 'lmgica', 'lngica', 'logica', 'lpgica', 'lqgica', 'lrgica', 'lsgica', 'ltgica', 'lugica', 'lvgica', 'lwgica', 'lxgica', 'lygica', 'lzgica', 'làgica', 'lágica', 'lâgica', 'lãgica', 'lègica', 'légica', 'lêgica', 'lìgica', 'lígica', 'lîgica', 'lògica', 'lógica', 'lôgica', 'lõgica', 'lùgica', 'lúgica', 'lûgica', 'lçgica', 'lgaica', 'lgbica', 'lgcica', 'lgdica', 'lgeica', 'lgfica', 'lggica', 'lghica', 'lgiica', 'lgjica', 'lgkica', 'lglica', 'lgmica', 'lgnica', 'lgoica', 'lgpica', 'lgqica', 'lgrica', 'lgsica', 'lgtica', 'lguica', 'lgvica', 'lgwica', 'lgxica', 'lgyica', 'lgzica', 'lgàica', 'lgáica', 'lgâica', 'lgãica', 'lgèica', 'lgéica', 'lgêica', 'lgìica', 'lgíica', 'lgîica', 'lgòica', 'lgóica', 'lgôica', 'lgõica', 'lgùica', 'lgúica', 'lgûica', 'lgçica', 'lgiaca', 'lgibca', 'lgicca', 'lgidca', 'lgieca', 'lgifca', 'lgigca', 'lgihca', 'lgiica', 'lgijca', 'lgikca', 'lgilca', 'lgimca', 'lginca', 'lgioca', 'lgipca', 'lgiqca', 'lgirca', 'lgisca', 'lgitca', 'lgiuca', 'lgivca', 'lgiwca', 'lgixca', 'lgiyca', 'lgizca', 'lgiàca', 'lgiáca', 'lgiâca', 'lgiãca', 'lgièca', 'lgiéca', 'lgiêca', 'lgiìca', 'lgiíca', 'lgiîca', 'lgiòca', 'lgióca', 'lgiôca', 'lgiõca', 'lgiùca', 'lgiúca', 'lgiûca', 'lgiçca', 'lgicaa', 'lgicba', 'lgicca', 'lgicda', 'lgicea', 'lgicfa', 'lgicga', 'lgicha', 'lgicia', 'lgicja', 'lgicka', 'lgicla', 'lgicma', 'lgicna', 'lgicoa', 'lgicpa', 'lgicqa', 'lgicra', 'lgicsa', 'lgicta', 'lgicua', 'lgicva', 'lgicwa', 'lgicxa', 'lgicya', 'lgicza', 'lgicàa', 'lgicáa', 'lgicâa', 'lgicãa', 'lgicèa', 'lgicéa', 'lgicêa', 'lgicìa', 'lgicía', 'lgicîa', 'lgicòa', 'lgicóa', 'lgicôa', 'lgicõa', 'lgicùa', 'lgicúa', 'lgicûa', 'lgicça', 'lgicaa', 'lgicab', 'lgicac', 'lgicad', 'lgicae', 'lgicaf', 'lgicag', 'lgicah', 'lgicai', 'lgicaj', 'lgicak', 'lgical', 'lgicam', 'lgican', 'lgicao', 'lgicap', 'lgicaq', 'lgicar', 'lgicas', 'lgicat', 'lgicau', 'lgicav', 'lgicaw', 'lgicax', 'lgicay', 'lgicaz', 'lgicaà', 'lgicaá', 'lgicaâ', 'lgicaã', 'lgicaè', 'lgicaé', 'lgicaê', 'lgicaì', 'lgicaí', 'lgicaî', 'lgicaò', 'lgicaó', 'lgicaô', 'lgicaõ', 'lgicaù', 'lgicaú', 'lgicaû', 'lgicaç']\n"
          ]
        }
      ]
    },
    {
      "cell_type": "markdown",
      "source": [
        "## **Verificando dentre as palavras criadas qual é a correta**"
      ],
      "metadata": {
        "id": "t80TTv7egdNw"
      }
    },
    {
      "cell_type": "code",
      "source": [
        "# Calculo da probabilidade de uma palavra\n",
        "#frequencia_palavra/total_de_palavras\n",
        "\n",
        "frequencia = nltk.FreqDist(lista_normalizada) # calcula a frequencia de distribuicao das nossas palavras passando como parametro  nossa lista de palavras normalizada\n",
        "frequencia.most_common(10) # mostra uma lista das 10 primeiras palavras mais frequentes\n",
        "\n",
        "total_de_palavras = len(lista_normalizada)"
      ],
      "metadata": {
        "id": "6hQB7ouoKXSb"
      },
      "execution_count": 52,
      "outputs": []
    },
    {
      "cell_type": "code",
      "source": [
        "# Acessando a frequencia de uma palavra\n",
        "frequencia[\"lógica\"]"
      ],
      "metadata": {
        "colab": {
          "base_uri": "https://localhost:8080/"
        },
        "id": "XBPURTFaLF-E",
        "outputId": "03f644d8-5ca6-4bb2-f088-534a3973cbb6"
      },
      "execution_count": 53,
      "outputs": [
        {
          "output_type": "execute_result",
          "data": {
            "text/plain": [
              "96"
            ]
          },
          "metadata": {},
          "execution_count": 53
        }
      ]
    },
    {
      "cell_type": "code",
      "source": [
        "# Construindo a função de probabilidade\n",
        "def probabilidade(palavra_gerada):\n",
        "  return frequencia[palavra_gerada] / total_de_palavras\n",
        "\n",
        "probabilidade(\"lógica\")"
      ],
      "metadata": {
        "colab": {
          "base_uri": "https://localhost:8080/"
        },
        "id": "00LkQlngLQvy",
        "outputId": "78147373-7b52-4ffd-834c-7a4b79e24f49"
      },
      "execution_count": 54,
      "outputs": [
        {
          "output_type": "execute_result",
          "data": {
            "text/plain": [
              "0.00023815194093831864"
            ]
          },
          "metadata": {},
          "execution_count": 54
        }
      ]
    },
    {
      "cell_type": "code",
      "source": [
        "def corretor(palavra):\n",
        "  palavras_geradas = gerador_palavras(palavra)\n",
        "  palavra_correta = max(palavras_geradas, key = probabilidade) # calcula a probabilidade para todas as palavras_geradas e retorna a de maior probabilidade\n",
        "  return palavra_correta\n",
        "\n",
        "corretor(palavra_exemplo)"
      ],
      "metadata": {
        "id": "aPH1dr6Rfm3v",
        "colab": {
          "base_uri": "https://localhost:8080/",
          "height": 35
        },
        "outputId": "4fc230cd-53a3-4ec3-f8ce-6dcd4b86a30b"
      },
      "execution_count": 55,
      "outputs": [
        {
          "output_type": "execute_result",
          "data": {
            "text/plain": [
              "'lógica'"
            ],
            "application/vnd.google.colaboratory.intrinsic+json": {
              "type": "string"
            }
          },
          "metadata": {},
          "execution_count": 55
        }
      ]
    },
    {
      "cell_type": "markdown",
      "source": [
        "# **Avaliando nosso Modelo de Corretor**"
      ],
      "metadata": {
        "id": "68gOQBTiNOQX"
      }
    },
    {
      "cell_type": "code",
      "source": [
        "# Criando dados de teste para avaliação\n",
        "def cria_dados_teste(nome_arquivo):\n",
        "  lista_palavras_teste = []\n",
        "  f = open(nome_arquivo, \"r\")\n",
        "  for linha in f:\n",
        "    correta, errada = linha.split()\n",
        "    lista_palavras_teste.append((correta, errada))\n",
        "  f.close()\n",
        "  return lista_palavras_teste\n",
        "\n",
        "lista_teste = cria_dados_teste(\"palavras.txt\")\n",
        "lista_teste"
      ],
      "metadata": {
        "colab": {
          "base_uri": "https://localhost:8080/"
        },
        "id": "v5uz1t_8Nj5i",
        "outputId": "cae1a387-a3f2-4e9f-8763-3835cf98f437"
      },
      "execution_count": 56,
      "outputs": [
        {
          "output_type": "execute_result",
          "data": {
            "text/plain": [
              "[('podemos', 'pyodemos'),\n",
              " ('esse', 'esje'),\n",
              " ('já', 'jrá'),\n",
              " ('nosso', 'nossov'),\n",
              " ('são', 'sãêo'),\n",
              " ('dos', 'dosa'),\n",
              " ('muito', 'muifo'),\n",
              " ('imagem', 'iômagem'),\n",
              " ('sua', 'ósua'),\n",
              " ('também', 'tambéùm'),\n",
              " ('ele', 'eme'),\n",
              " ('fazer', 'èazer'),\n",
              " ('temos', 'temfs'),\n",
              " ('essa', 'eàssa'),\n",
              " ('quando', 'quaôdo'),\n",
              " ('vamos', 'vamvos'),\n",
              " ('sobre', 'hsobre'),\n",
              " ('java', 'sjava'),\n",
              " ('das', 'daõs'),\n",
              " ('agora', 'agorah'),\n",
              " ('está', 'eòtá'),\n",
              " ('cada', 'céda'),\n",
              " ('mesmo', 'zmesmo'),\n",
              " ('nos', 'noâ'),\n",
              " ('forma', 'fobma'),\n",
              " ('seja', 'sejéa'),\n",
              " ('então', 'enêão'),\n",
              " ('criar', 'èriar'),\n",
              " ('código', 'cóeigo'),\n",
              " ('caso', 'casío'),\n",
              " ('exemplo', 'áexemplo'),\n",
              " ('tem', 'tĩem'),\n",
              " ('usuário', 'usuárôio'),\n",
              " ('dados', 'dfados'),\n",
              " ('python', 'pgthon'),\n",
              " ('nossa', 'nossah'),\n",
              " ('além', 'alémè'),\n",
              " ('assim', 'asõim'),\n",
              " ('ter', 'teb'),\n",
              " ('até', 'atĩ'),\n",
              " ('bem', 'âem'),\n",
              " ('design', 'desigen'),\n",
              " ('trabalho', 'trabalàho'),\n",
              " ('foi', 'foo'),\n",
              " ('apenas', 'apenaũ'),\n",
              " ('empresa', 'empresà'),\n",
              " ('valor', 'valíor'),\n",
              " ('será', 'serr'),\n",
              " ('entre', 'entke'),\n",
              " ('método', 'méqodo'),\n",
              " ('precisamos', 'precisamops'),\n",
              " ('ainda', 'ainàa'),\n",
              " ('vai', 'van'),\n",
              " ('conteúdo', 'ûconteúdo'),\n",
              " ('seus', 'çeus'),\n",
              " ('eu', 'eû'),\n",
              " ('todos', 'todtos'),\n",
              " ('tempo', 'temeo'),\n",
              " ('sempre', 'semre'),\n",
              " ('qual', 'quakl'),\n",
              " ('ela', 'elaá'),\n",
              " ('só', 'síó'),\n",
              " ('utilizar', 'utiqizar'),\n",
              " ('projeto', 'prhojeto'),\n",
              " ('site', 'siàe'),\n",
              " ('sem', 'seém'),\n",
              " ('pelo', 'peln'),\n",
              " ('alura', 'aléra'),\n",
              " ('dia', 'tdia'),\n",
              " ('tudo', 'tuúo'),\n",
              " ('podemos', 'kpodemos'),\n",
              " ('esse', 'eẽsse'),\n",
              " ('já', 'jé'),\n",
              " ('nosso', 'nçosso'),\n",
              " ('são', 'sãô'),\n",
              " ('dos', 'odos'),\n",
              " ('muito', 'tuito'),\n",
              " ('imagem', 'imõgem'),\n",
              " ('sua', 'siua'),\n",
              " ('também', 'tamvbém'),\n",
              " ('ele', 'elpe'),\n",
              " ('fazer', 'façzer'),\n",
              " ('temos', 'teos'),\n",
              " ('essa', 'eũsa'),\n",
              " ('quando', 'quaìdo'),\n",
              " ('vamos', 'vjmos'),\n",
              " ('sobre', 'sxobre'),\n",
              " ('java', 'jkva'),\n",
              " ('das', 'dms'),\n",
              " ('agora', 'agtora'),\n",
              " ('está', 'esútá'),\n",
              " ('cada', 'cava'),\n",
              " ('mesmo', 'medmo'),\n",
              " ('nos', 'ános'),\n",
              " ('forma', 'forûa'),\n",
              " ('seja', 'smeja'),\n",
              " ('então', 'enjtão'),\n",
              " ('criar', 'criôar'),\n",
              " ('código', 'cóàigo'),\n",
              " ('caso', 'èaso'),\n",
              " ('exemplo', 'exbemplo'),\n",
              " ('tem', 'túem'),\n",
              " ('usuário', 'usuárin'),\n",
              " ('dados', 'daáos'),\n",
              " ('python', 'pythoçn'),\n",
              " ('nossa', 'nossk'),\n",
              " ('além', 'âlém'),\n",
              " ('assim', 'aóssim'),\n",
              " ('ter', 'tãer'),\n",
              " ('até', 'vté'),\n",
              " ('bem', 'búm'),\n",
              " ('design', 'íesign'),\n",
              " ('trabalho', 'trabèalho'),\n",
              " ('foi', 'kfoi'),\n",
              " ('apenas', 'aapenas'),\n",
              " ('empresa', 'pmpresa'),\n",
              " ('valor', 'valoqr'),\n",
              " ('será', 'sçerá'),\n",
              " ('entre', 'entró'),\n",
              " ('método', 'nétodo'),\n",
              " ('precisamos', 'prefcisamos'),\n",
              " ('ainda', 'sainda'),\n",
              " ('vai', 'uai'),\n",
              " ('conteúdo', 'cĩonteúdo'),\n",
              " ('seus', 'sâus'),\n",
              " ('eu', 'ìeu'),\n",
              " ('todos', 'todás'),\n",
              " ('tempo', 'utempo'),\n",
              " ('sempre', 'sempce'),\n",
              " ('qual', 'fual'),\n",
              " ('ela', 'elal'),\n",
              " ('só', 'skó'),\n",
              " ('utilizar', 'utilĩzar'),\n",
              " ('projeto', 'proójeto'),\n",
              " ('site', 'isite'),\n",
              " ('sem', 'secm'),\n",
              " ('pelo', 'pẽlo'),\n",
              " ('alura', 'aluéa'),\n",
              " ('dia', 'dil'),\n",
              " ('tudo', 'tudy'),\n",
              " ('ela', 'qelay'),\n",
              " ('só', 'sód'),\n",
              " ('utilizar', 'dtilizacr'),\n",
              " ('projeto', 'bprojõto'),\n",
              " ('site', 'ysiteo'),\n",
              " ('sem', 'sõêm'),\n",
              " ('pelo', 'peàli'),\n",
              " ('alura', 'asuraó'),\n",
              " ('dia', 'deiìa'),\n",
              " ('tudo', 'tuĩdoì'),\n",
              " ('ela', 'eúaa'),\n",
              " ('só', 'ró'),\n",
              " ('utilizar', 'utilizẽaçr'),\n",
              " ('projeto', 'prêjetó'),\n",
              " ('site', 'sqiqte'),\n",
              " ('sem', 'sũexm'),\n",
              " ('pelo', 'pçlxo'),\n",
              " ('alura', 'uluraa'),\n",
              " ('dia', 'dĩaz'),\n",
              " ('tudo', 'kzudo'),\n",
              " ('corretor', 'correptor'),\n",
              " ('tática', 'trtica'),\n",
              " ('empoderamento', 'ewpoderamento'),\n",
              " ('linux', 'lifux'),\n",
              " ('cachorro', 'cachoçro'),\n",
              " ('gato', 'îgato'),\n",
              " ('cavalo', 'cakvalo'),\n",
              " ('relógio', 'relógiuo'),\n",
              " ('canela', 'canelac'),\n",
              " ('tênis', 'tênisy'),\n",
              " ('ansiosa', 'anciosa'),\n",
              " ('ansiosa', 'ancciosa'),\n",
              " ('ansiosa', 'ansioa'),\n",
              " ('empoderamento', 'empoderamento'),\n",
              " ('asterisco', 'asterístico'),\n",
              " ('gratuito', 'gratuíto'),\n",
              " ('entretido', 'entertido'),\n",
              " ('ritmo', 'ritimo'),\n",
              " ('idiota', 'indiota'),\n",
              " ('tomara', 'tomare'),\n",
              " ('seja', 'seje'),\n",
              " ('prevalecer', 'provalecer'),\n",
              " ('esteja', 'esteje'),\n",
              " ('mendigo', 'mindigo'),\n",
              " ('cérebro', 'célebro'),\n",
              " ('perturbar', 'pertubar')]"
            ]
          },
          "metadata": {},
          "execution_count": 56
        }
      ]
    },
    {
      "cell_type": "code",
      "source": [
        "def avaliador(testes):\n",
        "  numero_palavras = len(testes)\n",
        "  acertou = 0\n",
        "\n",
        "  for correta, errada in testes:\n",
        "    palavra_corrigida = corretor(errada)\n",
        "    if palavra_corrigida == correta:\n",
        "      acertou +=1\n",
        "\n",
        "  taxa_acerto = acertou / numero_palavras\n",
        "  taxa_acerto = round((taxa_acerto * 100), 2)\n",
        "  print(f\"{taxa_acerto}% de {numero_palavras} palavras\")\n",
        "\n",
        "avaliador(lista_teste)"
      ],
      "metadata": {
        "colab": {
          "base_uri": "https://localhost:8080/"
        },
        "id": "BW9Ox-8DMJns",
        "outputId": "3986b959-70e3-4293-9fe2-2960648b91aa"
      },
      "execution_count": 57,
      "outputs": [
        {
          "output_type": "stream",
          "name": "stdout",
          "text": [
            "1.08% de 186 palavras\n"
          ]
        }
      ]
    },
    {
      "cell_type": "markdown",
      "source": [
        "# **Criando nosso corretor para Letras a Mais**"
      ],
      "metadata": {
        "id": "NSwDnOIiSLM7"
      }
    },
    {
      "cell_type": "code",
      "source": [
        "def deletando_caracteres(fatias):\n",
        "  novas_palavras = []\n",
        "  for E, D in fatias:\n",
        "    novas_palavras.append(E + D[1:])\n",
        "  return novas_palavras"
      ],
      "metadata": {
        "id": "MlHINovGQmiD"
      },
      "execution_count": 58,
      "outputs": []
    },
    {
      "cell_type": "code",
      "source": [
        "# Adaptando a função gerador de palavras para alem de acrescentar letras tambem deletar caracteres\n",
        "def gerador_palavras(palavra):\n",
        "  # Separando as letras\n",
        "  fatias = []\n",
        "  for i in range(len(palavra) + 1):\n",
        "    fatias.append((palavra[:i], palavra[i:]))\n",
        "  # Inserindo letras entre as letras separadas\n",
        "  palavras_geradas = insere_letras(fatias)\n",
        "  # Deletando caracteres entre os caracteres\n",
        "  palavras_geradas += deletando_caracteres(fatias)\n",
        "  return palavras_geradas\n",
        "\n",
        "palavra_exemplo = \"lóigica\"\n",
        "palavras_geradas = gerador_palavras(palavra_exemplo)\n",
        "print(palavras_geradas)"
      ],
      "metadata": {
        "colab": {
          "base_uri": "https://localhost:8080/"
        },
        "id": "3lzHnb2WUTxZ",
        "outputId": "dea7dc2a-0be5-44eb-a6c5-3536cbf16c70"
      },
      "execution_count": 59,
      "outputs": [
        {
          "output_type": "stream",
          "name": "stdout",
          "text": [
            "['alóigica', 'blóigica', 'clóigica', 'dlóigica', 'elóigica', 'flóigica', 'glóigica', 'hlóigica', 'ilóigica', 'jlóigica', 'klóigica', 'llóigica', 'mlóigica', 'nlóigica', 'olóigica', 'plóigica', 'qlóigica', 'rlóigica', 'slóigica', 'tlóigica', 'ulóigica', 'vlóigica', 'wlóigica', 'xlóigica', 'ylóigica', 'zlóigica', 'àlóigica', 'álóigica', 'âlóigica', 'ãlóigica', 'èlóigica', 'élóigica', 'êlóigica', 'ìlóigica', 'ílóigica', 'îlóigica', 'òlóigica', 'ólóigica', 'ôlóigica', 'õlóigica', 'ùlóigica', 'úlóigica', 'ûlóigica', 'çlóigica', 'laóigica', 'lbóigica', 'lcóigica', 'ldóigica', 'leóigica', 'lfóigica', 'lgóigica', 'lhóigica', 'lióigica', 'ljóigica', 'lkóigica', 'llóigica', 'lmóigica', 'lnóigica', 'loóigica', 'lpóigica', 'lqóigica', 'lróigica', 'lsóigica', 'ltóigica', 'luóigica', 'lvóigica', 'lwóigica', 'lxóigica', 'lyóigica', 'lzóigica', 'làóigica', 'láóigica', 'lâóigica', 'lãóigica', 'lèóigica', 'léóigica', 'lêóigica', 'lìóigica', 'líóigica', 'lîóigica', 'lòóigica', 'lóóigica', 'lôóigica', 'lõóigica', 'lùóigica', 'lúóigica', 'lûóigica', 'lçóigica', 'lóaigica', 'lóbigica', 'lócigica', 'lódigica', 'lóeigica', 'lófigica', 'lógigica', 'lóhigica', 'lóiigica', 'lójigica', 'lókigica', 'lóligica', 'lómigica', 'lónigica', 'lóoigica', 'lópigica', 'lóqigica', 'lórigica', 'lósigica', 'lótigica', 'lóuigica', 'lóvigica', 'lówigica', 'lóxigica', 'lóyigica', 'lózigica', 'lóàigica', 'lóáigica', 'lóâigica', 'lóãigica', 'lóèigica', 'lóéigica', 'lóêigica', 'lóìigica', 'lóíigica', 'lóîigica', 'lóòigica', 'lóóigica', 'lóôigica', 'lóõigica', 'lóùigica', 'lóúigica', 'lóûigica', 'lóçigica', 'lóiagica', 'lóibgica', 'lóicgica', 'lóidgica', 'lóiegica', 'lóifgica', 'lóiggica', 'lóihgica', 'lóiigica', 'lóijgica', 'lóikgica', 'lóilgica', 'lóimgica', 'lóingica', 'lóiogica', 'lóipgica', 'lóiqgica', 'lóirgica', 'lóisgica', 'lóitgica', 'lóiugica', 'lóivgica', 'lóiwgica', 'lóixgica', 'lóiygica', 'lóizgica', 'lóiàgica', 'lóiágica', 'lóiâgica', 'lóiãgica', 'lóiègica', 'lóiégica', 'lóiêgica', 'lóiìgica', 'lóiígica', 'lóiîgica', 'lóiògica', 'lóiógica', 'lóiôgica', 'lóiõgica', 'lóiùgica', 'lóiúgica', 'lóiûgica', 'lóiçgica', 'lóigaica', 'lóigbica', 'lóigcica', 'lóigdica', 'lóigeica', 'lóigfica', 'lóiggica', 'lóighica', 'lóigiica', 'lóigjica', 'lóigkica', 'lóiglica', 'lóigmica', 'lóignica', 'lóigoica', 'lóigpica', 'lóigqica', 'lóigrica', 'lóigsica', 'lóigtica', 'lóiguica', 'lóigvica', 'lóigwica', 'lóigxica', 'lóigyica', 'lóigzica', 'lóigàica', 'lóigáica', 'lóigâica', 'lóigãica', 'lóigèica', 'lóigéica', 'lóigêica', 'lóigìica', 'lóigíica', 'lóigîica', 'lóigòica', 'lóigóica', 'lóigôica', 'lóigõica', 'lóigùica', 'lóigúica', 'lóigûica', 'lóigçica', 'lóigiaca', 'lóigibca', 'lóigicca', 'lóigidca', 'lóigieca', 'lóigifca', 'lóigigca', 'lóigihca', 'lóigiica', 'lóigijca', 'lóigikca', 'lóigilca', 'lóigimca', 'lóiginca', 'lóigioca', 'lóigipca', 'lóigiqca', 'lóigirca', 'lóigisca', 'lóigitca', 'lóigiuca', 'lóigivca', 'lóigiwca', 'lóigixca', 'lóigiyca', 'lóigizca', 'lóigiàca', 'lóigiáca', 'lóigiâca', 'lóigiãca', 'lóigièca', 'lóigiéca', 'lóigiêca', 'lóigiìca', 'lóigiíca', 'lóigiîca', 'lóigiòca', 'lóigióca', 'lóigiôca', 'lóigiõca', 'lóigiùca', 'lóigiúca', 'lóigiûca', 'lóigiçca', 'lóigicaa', 'lóigicba', 'lóigicca', 'lóigicda', 'lóigicea', 'lóigicfa', 'lóigicga', 'lóigicha', 'lóigicia', 'lóigicja', 'lóigicka', 'lóigicla', 'lóigicma', 'lóigicna', 'lóigicoa', 'lóigicpa', 'lóigicqa', 'lóigicra', 'lóigicsa', 'lóigicta', 'lóigicua', 'lóigicva', 'lóigicwa', 'lóigicxa', 'lóigicya', 'lóigicza', 'lóigicàa', 'lóigicáa', 'lóigicâa', 'lóigicãa', 'lóigicèa', 'lóigicéa', 'lóigicêa', 'lóigicìa', 'lóigicía', 'lóigicîa', 'lóigicòa', 'lóigicóa', 'lóigicôa', 'lóigicõa', 'lóigicùa', 'lóigicúa', 'lóigicûa', 'lóigicça', 'lóigicaa', 'lóigicab', 'lóigicac', 'lóigicad', 'lóigicae', 'lóigicaf', 'lóigicag', 'lóigicah', 'lóigicai', 'lóigicaj', 'lóigicak', 'lóigical', 'lóigicam', 'lóigican', 'lóigicao', 'lóigicap', 'lóigicaq', 'lóigicar', 'lóigicas', 'lóigicat', 'lóigicau', 'lóigicav', 'lóigicaw', 'lóigicax', 'lóigicay', 'lóigicaz', 'lóigicaà', 'lóigicaá', 'lóigicaâ', 'lóigicaã', 'lóigicaè', 'lóigicaé', 'lóigicaê', 'lóigicaì', 'lóigicaí', 'lóigicaî', 'lóigicaò', 'lóigicaó', 'lóigicaô', 'lóigicaõ', 'lóigicaù', 'lóigicaú', 'lóigicaû', 'lóigicaç', 'óigica', 'ligica', 'lógica', 'lóiica', 'lóigca', 'lóigia', 'lóigic', 'lóigica']\n"
          ]
        }
      ]
    },
    {
      "cell_type": "code",
      "source": [
        "avaliador(lista_teste)"
      ],
      "metadata": {
        "colab": {
          "base_uri": "https://localhost:8080/"
        },
        "id": "7z2SkbaBVr5y",
        "outputId": "630d4696-6691-447d-83d0-26a513e74ad1"
      },
      "execution_count": 60,
      "outputs": [
        {
          "output_type": "stream",
          "name": "stdout",
          "text": [
            "41.4% de 186 palavras\n"
          ]
        }
      ]
    },
    {
      "cell_type": "markdown",
      "source": [
        "# **Criando nosso corretor para Letras Trocadas**"
      ],
      "metadata": {
        "id": "PYsy-fN7ogRZ"
      }
    },
    {
      "cell_type": "code",
      "source": [
        "# Função para trocar uma letra da palavra por outra\n",
        "\n",
        "def troca_letra(fatias):\n",
        "  novas_palavras = []\n",
        "  letras = 'abcdefghijklmnopqrstuvwxyzàáâãèéêìíîòóôõùúûç'\n",
        "  for E, D in fatias:\n",
        "    for letra in letras:\n",
        "      novas_palavras.append(E + letra + D[1:])\n",
        "  return novas_palavras\n",
        "\n",
        "# Adaptando a função gerador de palavras para alem de acrescentar letras tambem deletar caracteres e realizar a troca de letras\n",
        "def gerador_palavras(palavra):\n",
        "  # Separando as letras\n",
        "  fatias = []\n",
        "  for i in range(len(palavra) + 1):\n",
        "    fatias.append((palavra[:i], palavra[i:]))\n",
        "  # Inserindo letras entre as letras separadas\n",
        "  palavras_geradas = insere_letras(fatias)\n",
        "  # Deletando caracteres entre os caracteres\n",
        "  palavras_geradas += deletando_caracteres(fatias)\n",
        "  # Troca de letras entre os caracteres\n",
        "  palavras_geradas += troca_letra(fatias)\n",
        "  return palavras_geradas\n",
        "\n",
        "palavra_exemplo = \"lígica\"\n",
        "palavras_geradas = gerador_palavras(palavra_exemplo)\n",
        "print(palavras_geradas)"
      ],
      "metadata": {
        "colab": {
          "base_uri": "https://localhost:8080/"
        },
        "id": "wrxA43SMV45Q",
        "outputId": "995a9ff7-0838-4a34-a59d-7c097564eaf4"
      },
      "execution_count": 61,
      "outputs": [
        {
          "output_type": "stream",
          "name": "stdout",
          "text": [
            "['alígica', 'blígica', 'clígica', 'dlígica', 'elígica', 'flígica', 'glígica', 'hlígica', 'ilígica', 'jlígica', 'klígica', 'llígica', 'mlígica', 'nlígica', 'olígica', 'plígica', 'qlígica', 'rlígica', 'slígica', 'tlígica', 'ulígica', 'vlígica', 'wlígica', 'xlígica', 'ylígica', 'zlígica', 'àlígica', 'álígica', 'âlígica', 'ãlígica', 'èlígica', 'élígica', 'êlígica', 'ìlígica', 'ílígica', 'îlígica', 'òlígica', 'ólígica', 'ôlígica', 'õlígica', 'ùlígica', 'úlígica', 'ûlígica', 'çlígica', 'laígica', 'lbígica', 'lcígica', 'ldígica', 'leígica', 'lfígica', 'lgígica', 'lhígica', 'liígica', 'ljígica', 'lkígica', 'llígica', 'lmígica', 'lnígica', 'loígica', 'lpígica', 'lqígica', 'lrígica', 'lsígica', 'ltígica', 'luígica', 'lvígica', 'lwígica', 'lxígica', 'lyígica', 'lzígica', 'làígica', 'láígica', 'lâígica', 'lãígica', 'lèígica', 'léígica', 'lêígica', 'lìígica', 'líígica', 'lîígica', 'lòígica', 'lóígica', 'lôígica', 'lõígica', 'lùígica', 'lúígica', 'lûígica', 'lçígica', 'líagica', 'líbgica', 'lícgica', 'lídgica', 'líegica', 'lífgica', 'líggica', 'líhgica', 'líigica', 'líjgica', 'líkgica', 'lílgica', 'límgica', 'língica', 'líogica', 'lípgica', 'líqgica', 'lírgica', 'lísgica', 'lítgica', 'líugica', 'lívgica', 'líwgica', 'líxgica', 'líygica', 'lízgica', 'líàgica', 'líágica', 'líâgica', 'líãgica', 'líègica', 'líégica', 'líêgica', 'líìgica', 'líígica', 'líîgica', 'líògica', 'líógica', 'líôgica', 'líõgica', 'líùgica', 'líúgica', 'líûgica', 'líçgica', 'lígaica', 'lígbica', 'lígcica', 'lígdica', 'lígeica', 'lígfica', 'líggica', 'líghica', 'lígiica', 'lígjica', 'lígkica', 'líglica', 'lígmica', 'lígnica', 'lígoica', 'lígpica', 'lígqica', 'lígrica', 'lígsica', 'lígtica', 'líguica', 'lígvica', 'lígwica', 'lígxica', 'lígyica', 'lígzica', 'lígàica', 'lígáica', 'lígâica', 'lígãica', 'lígèica', 'lígéica', 'lígêica', 'lígìica', 'lígíica', 'lígîica', 'lígòica', 'lígóica', 'lígôica', 'lígõica', 'lígùica', 'lígúica', 'lígûica', 'lígçica', 'lígiaca', 'lígibca', 'lígicca', 'lígidca', 'lígieca', 'lígifca', 'lígigca', 'lígihca', 'lígiica', 'lígijca', 'lígikca', 'lígilca', 'lígimca', 'líginca', 'lígioca', 'lígipca', 'lígiqca', 'lígirca', 'lígisca', 'lígitca', 'lígiuca', 'lígivca', 'lígiwca', 'lígixca', 'lígiyca', 'lígizca', 'lígiàca', 'lígiáca', 'lígiâca', 'lígiãca', 'lígièca', 'lígiéca', 'lígiêca', 'lígiìca', 'lígiíca', 'lígiîca', 'lígiòca', 'lígióca', 'lígiôca', 'lígiõca', 'lígiùca', 'lígiúca', 'lígiûca', 'lígiçca', 'lígicaa', 'lígicba', 'lígicca', 'lígicda', 'lígicea', 'lígicfa', 'lígicga', 'lígicha', 'lígicia', 'lígicja', 'lígicka', 'lígicla', 'lígicma', 'lígicna', 'lígicoa', 'lígicpa', 'lígicqa', 'lígicra', 'lígicsa', 'lígicta', 'lígicua', 'lígicva', 'lígicwa', 'lígicxa', 'lígicya', 'lígicza', 'lígicàa', 'lígicáa', 'lígicâa', 'lígicãa', 'lígicèa', 'lígicéa', 'lígicêa', 'lígicìa', 'lígicía', 'lígicîa', 'lígicòa', 'lígicóa', 'lígicôa', 'lígicõa', 'lígicùa', 'lígicúa', 'lígicûa', 'lígicça', 'lígicaa', 'lígicab', 'lígicac', 'lígicad', 'lígicae', 'lígicaf', 'lígicag', 'lígicah', 'lígicai', 'lígicaj', 'lígicak', 'lígical', 'lígicam', 'lígican', 'lígicao', 'lígicap', 'lígicaq', 'lígicar', 'lígicas', 'lígicat', 'lígicau', 'lígicav', 'lígicaw', 'lígicax', 'lígicay', 'lígicaz', 'lígicaà', 'lígicaá', 'lígicaâ', 'lígicaã', 'lígicaè', 'lígicaé', 'lígicaê', 'lígicaì', 'lígicaí', 'lígicaî', 'lígicaò', 'lígicaó', 'lígicaô', 'lígicaõ', 'lígicaù', 'lígicaú', 'lígicaû', 'lígicaç', 'ígica', 'lgica', 'líica', 'lígca', 'lígia', 'lígic', 'lígica', 'aígica', 'bígica', 'cígica', 'dígica', 'eígica', 'fígica', 'gígica', 'hígica', 'iígica', 'jígica', 'kígica', 'lígica', 'mígica', 'nígica', 'oígica', 'pígica', 'qígica', 'rígica', 'sígica', 'tígica', 'uígica', 'vígica', 'wígica', 'xígica', 'yígica', 'zígica', 'àígica', 'áígica', 'âígica', 'ãígica', 'èígica', 'éígica', 'êígica', 'ìígica', 'íígica', 'îígica', 'òígica', 'óígica', 'ôígica', 'õígica', 'ùígica', 'úígica', 'ûígica', 'çígica', 'lagica', 'lbgica', 'lcgica', 'ldgica', 'legica', 'lfgica', 'lggica', 'lhgica', 'ligica', 'ljgica', 'lkgica', 'llgica', 'lmgica', 'lngica', 'logica', 'lpgica', 'lqgica', 'lrgica', 'lsgica', 'ltgica', 'lugica', 'lvgica', 'lwgica', 'lxgica', 'lygica', 'lzgica', 'làgica', 'lágica', 'lâgica', 'lãgica', 'lègica', 'légica', 'lêgica', 'lìgica', 'lígica', 'lîgica', 'lògica', 'lógica', 'lôgica', 'lõgica', 'lùgica', 'lúgica', 'lûgica', 'lçgica', 'líaica', 'líbica', 'lícica', 'lídica', 'líeica', 'lífica', 'lígica', 'líhica', 'líiica', 'líjica', 'líkica', 'lílica', 'límica', 'línica', 'líoica', 'lípica', 'líqica', 'lírica', 'lísica', 'lítica', 'líuica', 'lívica', 'líwica', 'líxica', 'líyica', 'lízica', 'líàica', 'líáica', 'líâica', 'líãica', 'líèica', 'líéica', 'líêica', 'líìica', 'lííica', 'líîica', 'líòica', 'líóica', 'líôica', 'líõica', 'líùica', 'líúica', 'líûica', 'líçica', 'lígaca', 'lígbca', 'lígcca', 'lígdca', 'lígeca', 'lígfca', 'líggca', 'líghca', 'lígica', 'lígjca', 'lígkca', 'líglca', 'lígmca', 'lígnca', 'lígoca', 'lígpca', 'lígqca', 'lígrca', 'lígsca', 'lígtca', 'líguca', 'lígvca', 'lígwca', 'lígxca', 'lígyca', 'lígzca', 'lígàca', 'lígáca', 'lígâca', 'lígãca', 'lígèca', 'lígéca', 'lígêca', 'lígìca', 'lígíca', 'lígîca', 'lígòca', 'lígóca', 'lígôca', 'lígõca', 'lígùca', 'lígúca', 'lígûca', 'lígçca', 'lígiaa', 'lígiba', 'lígica', 'lígida', 'lígiea', 'lígifa', 'lígiga', 'lígiha', 'lígiia', 'lígija', 'lígika', 'lígila', 'lígima', 'lígina', 'lígioa', 'lígipa', 'lígiqa', 'lígira', 'lígisa', 'lígita', 'lígiua', 'lígiva', 'lígiwa', 'lígixa', 'lígiya', 'lígiza', 'lígiàa', 'lígiáa', 'lígiâa', 'lígiãa', 'lígièa', 'lígiéa', 'lígiêa', 'lígiìa', 'lígiía', 'lígiîa', 'lígiòa', 'lígióa', 'lígiôa', 'lígiõa', 'lígiùa', 'lígiúa', 'lígiûa', 'lígiça', 'lígica', 'lígicb', 'lígicc', 'lígicd', 'lígice', 'lígicf', 'lígicg', 'lígich', 'lígici', 'lígicj', 'lígick', 'lígicl', 'lígicm', 'lígicn', 'lígico', 'lígicp', 'lígicq', 'lígicr', 'lígics', 'lígict', 'lígicu', 'lígicv', 'lígicw', 'lígicx', 'lígicy', 'lígicz', 'lígicà', 'lígicá', 'lígicâ', 'lígicã', 'lígicè', 'lígicé', 'lígicê', 'lígicì', 'lígicí', 'lígicî', 'lígicò', 'lígicó', 'lígicô', 'lígicõ', 'lígicù', 'lígicú', 'lígicû', 'lígicç', 'lígicaa', 'lígicab', 'lígicac', 'lígicad', 'lígicae', 'lígicaf', 'lígicag', 'lígicah', 'lígicai', 'lígicaj', 'lígicak', 'lígical', 'lígicam', 'lígican', 'lígicao', 'lígicap', 'lígicaq', 'lígicar', 'lígicas', 'lígicat', 'lígicau', 'lígicav', 'lígicaw', 'lígicax', 'lígicay', 'lígicaz', 'lígicaà', 'lígicaá', 'lígicaâ', 'lígicaã', 'lígicaè', 'lígicaé', 'lígicaê', 'lígicaì', 'lígicaí', 'lígicaî', 'lígicaò', 'lígicaó', 'lígicaô', 'lígicaõ', 'lígicaù', 'lígicaú', 'lígicaû', 'lígicaç']\n"
          ]
        }
      ]
    },
    {
      "cell_type": "markdown",
      "source": [
        "# **Criando nosso corretor para Letras Invertidas**"
      ],
      "metadata": {
        "id": "-o7DbNWTrilg"
      }
    },
    {
      "cell_type": "code",
      "source": [
        "# Função para inverter uma letra por outra\n",
        "\n",
        "def inverte_letra(fatias):\n",
        "  novas_palavras = []\n",
        "  for E, D in fatias:\n",
        "    if len(D) > 1:\n",
        "      novas_palavras.append(E + D[1] + D[0] + D[2:])\n",
        "  return novas_palavras"
      ],
      "metadata": {
        "id": "RJZzggKTq8Cr"
      },
      "execution_count": 62,
      "outputs": []
    },
    {
      "cell_type": "code",
      "source": [
        "# Adaptando a função gerador de palavras para alem de acrescentar letras tambem deletar caracteres e realizar a troca de letras e inversao de letras\n",
        "def gerador_palavras(palavra):\n",
        "  # Separando as letras\n",
        "  fatias = []\n",
        "  for i in range(len(palavra) + 1):\n",
        "    fatias.append((palavra[:i], palavra[i:]))\n",
        "  # Inserindo letras entre as letras separadas\n",
        "  palavras_geradas = insere_letras(fatias)\n",
        "  # Deletando caracteres entre os caracteres\n",
        "  palavras_geradas += deletando_caracteres(fatias)\n",
        "  # Troca de letras entre os caracteres\n",
        "  palavras_geradas += troca_letra(fatias)\n",
        "  # Inverter letras\n",
        "  palavras_geradas += inverte_letra(fatias)\n",
        "  return palavras_geradas\n",
        "\n",
        "palavra_exemplo = \"lgoica\"\n",
        "palavras_geradas = gerador_palavras(palavra_exemplo)\n",
        "print(palavras_geradas)"
      ],
      "metadata": {
        "colab": {
          "base_uri": "https://localhost:8080/"
        },
        "id": "PsmMLsJjr2JK",
        "outputId": "54cf9a56-cbf8-4b58-9b68-5925397d03c3"
      },
      "execution_count": 63,
      "outputs": [
        {
          "output_type": "stream",
          "name": "stdout",
          "text": [
            "['algoica', 'blgoica', 'clgoica', 'dlgoica', 'elgoica', 'flgoica', 'glgoica', 'hlgoica', 'ilgoica', 'jlgoica', 'klgoica', 'llgoica', 'mlgoica', 'nlgoica', 'olgoica', 'plgoica', 'qlgoica', 'rlgoica', 'slgoica', 'tlgoica', 'ulgoica', 'vlgoica', 'wlgoica', 'xlgoica', 'ylgoica', 'zlgoica', 'àlgoica', 'álgoica', 'âlgoica', 'ãlgoica', 'èlgoica', 'élgoica', 'êlgoica', 'ìlgoica', 'ílgoica', 'îlgoica', 'òlgoica', 'ólgoica', 'ôlgoica', 'õlgoica', 'ùlgoica', 'úlgoica', 'ûlgoica', 'çlgoica', 'lagoica', 'lbgoica', 'lcgoica', 'ldgoica', 'legoica', 'lfgoica', 'lggoica', 'lhgoica', 'ligoica', 'ljgoica', 'lkgoica', 'llgoica', 'lmgoica', 'lngoica', 'logoica', 'lpgoica', 'lqgoica', 'lrgoica', 'lsgoica', 'ltgoica', 'lugoica', 'lvgoica', 'lwgoica', 'lxgoica', 'lygoica', 'lzgoica', 'làgoica', 'lágoica', 'lâgoica', 'lãgoica', 'lègoica', 'légoica', 'lêgoica', 'lìgoica', 'lígoica', 'lîgoica', 'lògoica', 'lógoica', 'lôgoica', 'lõgoica', 'lùgoica', 'lúgoica', 'lûgoica', 'lçgoica', 'lgaoica', 'lgboica', 'lgcoica', 'lgdoica', 'lgeoica', 'lgfoica', 'lggoica', 'lghoica', 'lgioica', 'lgjoica', 'lgkoica', 'lgloica', 'lgmoica', 'lgnoica', 'lgooica', 'lgpoica', 'lgqoica', 'lgroica', 'lgsoica', 'lgtoica', 'lguoica', 'lgvoica', 'lgwoica', 'lgxoica', 'lgyoica', 'lgzoica', 'lgàoica', 'lgáoica', 'lgâoica', 'lgãoica', 'lgèoica', 'lgéoica', 'lgêoica', 'lgìoica', 'lgíoica', 'lgîoica', 'lgòoica', 'lgóoica', 'lgôoica', 'lgõoica', 'lgùoica', 'lgúoica', 'lgûoica', 'lgçoica', 'lgoaica', 'lgobica', 'lgocica', 'lgodica', 'lgoeica', 'lgofica', 'lgogica', 'lgohica', 'lgoiica', 'lgojica', 'lgokica', 'lgolica', 'lgomica', 'lgonica', 'lgooica', 'lgopica', 'lgoqica', 'lgorica', 'lgosica', 'lgotica', 'lgouica', 'lgovica', 'lgowica', 'lgoxica', 'lgoyica', 'lgozica', 'lgoàica', 'lgoáica', 'lgoâica', 'lgoãica', 'lgoèica', 'lgoéica', 'lgoêica', 'lgoìica', 'lgoíica', 'lgoîica', 'lgoòica', 'lgoóica', 'lgoôica', 'lgoõica', 'lgoùica', 'lgoúica', 'lgoûica', 'lgoçica', 'lgoiaca', 'lgoibca', 'lgoicca', 'lgoidca', 'lgoieca', 'lgoifca', 'lgoigca', 'lgoihca', 'lgoiica', 'lgoijca', 'lgoikca', 'lgoilca', 'lgoimca', 'lgoinca', 'lgoioca', 'lgoipca', 'lgoiqca', 'lgoirca', 'lgoisca', 'lgoitca', 'lgoiuca', 'lgoivca', 'lgoiwca', 'lgoixca', 'lgoiyca', 'lgoizca', 'lgoiàca', 'lgoiáca', 'lgoiâca', 'lgoiãca', 'lgoièca', 'lgoiéca', 'lgoiêca', 'lgoiìca', 'lgoiíca', 'lgoiîca', 'lgoiòca', 'lgoióca', 'lgoiôca', 'lgoiõca', 'lgoiùca', 'lgoiúca', 'lgoiûca', 'lgoiçca', 'lgoicaa', 'lgoicba', 'lgoicca', 'lgoicda', 'lgoicea', 'lgoicfa', 'lgoicga', 'lgoicha', 'lgoicia', 'lgoicja', 'lgoicka', 'lgoicla', 'lgoicma', 'lgoicna', 'lgoicoa', 'lgoicpa', 'lgoicqa', 'lgoicra', 'lgoicsa', 'lgoicta', 'lgoicua', 'lgoicva', 'lgoicwa', 'lgoicxa', 'lgoicya', 'lgoicza', 'lgoicàa', 'lgoicáa', 'lgoicâa', 'lgoicãa', 'lgoicèa', 'lgoicéa', 'lgoicêa', 'lgoicìa', 'lgoicía', 'lgoicîa', 'lgoicòa', 'lgoicóa', 'lgoicôa', 'lgoicõa', 'lgoicùa', 'lgoicúa', 'lgoicûa', 'lgoicça', 'lgoicaa', 'lgoicab', 'lgoicac', 'lgoicad', 'lgoicae', 'lgoicaf', 'lgoicag', 'lgoicah', 'lgoicai', 'lgoicaj', 'lgoicak', 'lgoical', 'lgoicam', 'lgoican', 'lgoicao', 'lgoicap', 'lgoicaq', 'lgoicar', 'lgoicas', 'lgoicat', 'lgoicau', 'lgoicav', 'lgoicaw', 'lgoicax', 'lgoicay', 'lgoicaz', 'lgoicaà', 'lgoicaá', 'lgoicaâ', 'lgoicaã', 'lgoicaè', 'lgoicaé', 'lgoicaê', 'lgoicaì', 'lgoicaí', 'lgoicaî', 'lgoicaò', 'lgoicaó', 'lgoicaô', 'lgoicaõ', 'lgoicaù', 'lgoicaú', 'lgoicaû', 'lgoicaç', 'goica', 'loica', 'lgica', 'lgoca', 'lgoia', 'lgoic', 'lgoica', 'agoica', 'bgoica', 'cgoica', 'dgoica', 'egoica', 'fgoica', 'ggoica', 'hgoica', 'igoica', 'jgoica', 'kgoica', 'lgoica', 'mgoica', 'ngoica', 'ogoica', 'pgoica', 'qgoica', 'rgoica', 'sgoica', 'tgoica', 'ugoica', 'vgoica', 'wgoica', 'xgoica', 'ygoica', 'zgoica', 'àgoica', 'ágoica', 'âgoica', 'ãgoica', 'ègoica', 'égoica', 'êgoica', 'ìgoica', 'ígoica', 'îgoica', 'ògoica', 'ógoica', 'ôgoica', 'õgoica', 'ùgoica', 'úgoica', 'ûgoica', 'çgoica', 'laoica', 'lboica', 'lcoica', 'ldoica', 'leoica', 'lfoica', 'lgoica', 'lhoica', 'lioica', 'ljoica', 'lkoica', 'lloica', 'lmoica', 'lnoica', 'looica', 'lpoica', 'lqoica', 'lroica', 'lsoica', 'ltoica', 'luoica', 'lvoica', 'lwoica', 'lxoica', 'lyoica', 'lzoica', 'làoica', 'láoica', 'lâoica', 'lãoica', 'lèoica', 'léoica', 'lêoica', 'lìoica', 'líoica', 'lîoica', 'lòoica', 'lóoica', 'lôoica', 'lõoica', 'lùoica', 'lúoica', 'lûoica', 'lçoica', 'lgaica', 'lgbica', 'lgcica', 'lgdica', 'lgeica', 'lgfica', 'lggica', 'lghica', 'lgiica', 'lgjica', 'lgkica', 'lglica', 'lgmica', 'lgnica', 'lgoica', 'lgpica', 'lgqica', 'lgrica', 'lgsica', 'lgtica', 'lguica', 'lgvica', 'lgwica', 'lgxica', 'lgyica', 'lgzica', 'lgàica', 'lgáica', 'lgâica', 'lgãica', 'lgèica', 'lgéica', 'lgêica', 'lgìica', 'lgíica', 'lgîica', 'lgòica', 'lgóica', 'lgôica', 'lgõica', 'lgùica', 'lgúica', 'lgûica', 'lgçica', 'lgoaca', 'lgobca', 'lgocca', 'lgodca', 'lgoeca', 'lgofca', 'lgogca', 'lgohca', 'lgoica', 'lgojca', 'lgokca', 'lgolca', 'lgomca', 'lgonca', 'lgooca', 'lgopca', 'lgoqca', 'lgorca', 'lgosca', 'lgotca', 'lgouca', 'lgovca', 'lgowca', 'lgoxca', 'lgoyca', 'lgozca', 'lgoàca', 'lgoáca', 'lgoâca', 'lgoãca', 'lgoèca', 'lgoéca', 'lgoêca', 'lgoìca', 'lgoíca', 'lgoîca', 'lgoòca', 'lgoóca', 'lgoôca', 'lgoõca', 'lgoùca', 'lgoúca', 'lgoûca', 'lgoçca', 'lgoiaa', 'lgoiba', 'lgoica', 'lgoida', 'lgoiea', 'lgoifa', 'lgoiga', 'lgoiha', 'lgoiia', 'lgoija', 'lgoika', 'lgoila', 'lgoima', 'lgoina', 'lgoioa', 'lgoipa', 'lgoiqa', 'lgoira', 'lgoisa', 'lgoita', 'lgoiua', 'lgoiva', 'lgoiwa', 'lgoixa', 'lgoiya', 'lgoiza', 'lgoiàa', 'lgoiáa', 'lgoiâa', 'lgoiãa', 'lgoièa', 'lgoiéa', 'lgoiêa', 'lgoiìa', 'lgoiía', 'lgoiîa', 'lgoiòa', 'lgoióa', 'lgoiôa', 'lgoiõa', 'lgoiùa', 'lgoiúa', 'lgoiûa', 'lgoiça', 'lgoica', 'lgoicb', 'lgoicc', 'lgoicd', 'lgoice', 'lgoicf', 'lgoicg', 'lgoich', 'lgoici', 'lgoicj', 'lgoick', 'lgoicl', 'lgoicm', 'lgoicn', 'lgoico', 'lgoicp', 'lgoicq', 'lgoicr', 'lgoics', 'lgoict', 'lgoicu', 'lgoicv', 'lgoicw', 'lgoicx', 'lgoicy', 'lgoicz', 'lgoicà', 'lgoicá', 'lgoicâ', 'lgoicã', 'lgoicè', 'lgoicé', 'lgoicê', 'lgoicì', 'lgoicí', 'lgoicî', 'lgoicò', 'lgoicó', 'lgoicô', 'lgoicõ', 'lgoicù', 'lgoicú', 'lgoicû', 'lgoicç', 'lgoicaa', 'lgoicab', 'lgoicac', 'lgoicad', 'lgoicae', 'lgoicaf', 'lgoicag', 'lgoicah', 'lgoicai', 'lgoicaj', 'lgoicak', 'lgoical', 'lgoicam', 'lgoican', 'lgoicao', 'lgoicap', 'lgoicaq', 'lgoicar', 'lgoicas', 'lgoicat', 'lgoicau', 'lgoicav', 'lgoicaw', 'lgoicax', 'lgoicay', 'lgoicaz', 'lgoicaà', 'lgoicaá', 'lgoicaâ', 'lgoicaã', 'lgoicaè', 'lgoicaé', 'lgoicaê', 'lgoicaì', 'lgoicaí', 'lgoicaî', 'lgoicaò', 'lgoicaó', 'lgoicaô', 'lgoicaõ', 'lgoicaù', 'lgoicaú', 'lgoicaû', 'lgoicaç', 'gloica', 'logica', 'lgioca', 'lgocia', 'lgoiac']\n"
          ]
        }
      ]
    },
    {
      "cell_type": "code",
      "source": [
        "avaliador(lista_teste)"
      ],
      "metadata": {
        "colab": {
          "base_uri": "https://localhost:8080/"
        },
        "id": "mqlhV0fVtOcj",
        "outputId": "9f259e67-8ce1-4a4c-cc1a-c97aedab1a7a"
      },
      "execution_count": 64,
      "outputs": [
        {
          "output_type": "stream",
          "name": "stdout",
          "text": [
            "76.34% de 186 palavras\n"
          ]
        }
      ]
    },
    {
      "cell_type": "markdown",
      "source": [
        "# **Quanto a nossa Restrição de Palavras Conhecidas está Impactando nossa Porcetangem de Acertos**"
      ],
      "metadata": {
        "id": "KH9EK7uruUu3"
      }
    },
    {
      "cell_type": "code",
      "source": [
        "def avaliador(testes, vocabulario):\n",
        "  numero_palavras = len(testes)\n",
        "  acertou = 0\n",
        "  desconhecida = 0\n",
        "  for correta, errada in testes:\n",
        "    palavra_corrigida = corretor(errada)\n",
        "    if palavra_corrigida == correta:\n",
        "      acertou +=1\n",
        "    else:\n",
        "      desconhecida += (correta not in vocabulario)\n",
        "\n",
        "  taxa_acerto = acertou / numero_palavras\n",
        "  taxa_acerto = round((taxa_acerto * 100), 2)\n",
        "  taxa_desconhecida = desconhecida / numero_palavras\n",
        "  taxa_desconhecida = round((taxa_desconhecida * 100), 2)\n",
        "  print(f\"{taxa_acerto}% de {numero_palavras} palavras, desconhecida é {taxa_desconhecida}%\")\n",
        "\n",
        "vocabulario = set(lista_normalizada)\n",
        "avaliador(lista_teste, vocabulario)"
      ],
      "metadata": {
        "colab": {
          "base_uri": "https://localhost:8080/"
        },
        "id": "dKpmVZdeuB3j",
        "outputId": "44a5e1d5-4fda-4184-c7f4-efad860728ce"
      },
      "execution_count": 65,
      "outputs": [
        {
          "output_type": "stream",
          "name": "stdout",
          "text": [
            "76.34% de 186 palavras, desconhecida é 6.99%\n"
          ]
        }
      ]
    },
    {
      "cell_type": "markdown",
      "source": [
        "# **Criando nosso Corretor para Realizar Correção a mais de Uma Unidade de Distancia**"
      ],
      "metadata": {
        "id": "NfRFsGWlwZZ9"
      }
    },
    {
      "cell_type": "code",
      "source": [
        "def gerador_turbinado(palavras_geradas):\n",
        "  novas_palavras = []\n",
        "  for palavra in palavras_geradas:\n",
        "    novas_palavras += gerador_palavras(palavra)\n",
        "  return novas_palavras\n",
        "\n",
        "palavra = \"lóiigica\"\n",
        "palavras_g = gerador_turbinado(gerador_palavras(palavra))\n",
        "\"lógica\" in palavras_g"
      ],
      "metadata": {
        "id": "OTmLUWc3xP6U",
        "colab": {
          "base_uri": "https://localhost:8080/"
        },
        "outputId": "37bce2f8-1a3f-496f-9e58-ea490c8bff22"
      },
      "execution_count": 66,
      "outputs": [
        {
          "output_type": "execute_result",
          "data": {
            "text/plain": [
              "True"
            ]
          },
          "metadata": {},
          "execution_count": 66
        }
      ]
    },
    {
      "cell_type": "code",
      "source": [
        "# Vendo a quantidade de palavras geradas para correção agora\n",
        "len(palavras_g)"
      ],
      "metadata": {
        "id": "u4W6xt40xmuK",
        "colab": {
          "base_uri": "https://localhost:8080/"
        },
        "outputId": "e535a7ae-798e-42d1-d503-85d709b8a477"
      },
      "execution_count": 67,
      "outputs": [
        {
          "output_type": "execute_result",
          "data": {
            "text/plain": [
              "691744"
            ]
          },
          "metadata": {},
          "execution_count": 67
        }
      ]
    },
    {
      "cell_type": "markdown",
      "source": [
        "# **Melhorando Desempenho**"
      ],
      "metadata": {
        "id": "ulTZy9_LyJM8"
      }
    },
    {
      "cell_type": "code",
      "source": [
        "def novo_corretor(palavra):\n",
        "  palavras_geradas = gerador_palavras(palavra)\n",
        "  palavras_geradas_turbinado = gerador_turbinado(palavras_geradas)\n",
        "  todas_palavras = set(palavras_geradas + palavras_geradas_turbinado)\n",
        "  candidatos = [palavra]\n",
        "  for palavra in todas_palavras:\n",
        "    if palavra in vocabulario:\n",
        "      candidatos.append(palavra)\n",
        "  palavra_correta = max(candidatos, key = probabilidade) # calcula a probabilidade para todas as palavras_geradas e retorna a de maior probabilidade\n",
        "  return palavra_correta\n",
        "\n",
        "novo_corretor(palavra)"
      ],
      "metadata": {
        "id": "z7anB-LFyRMM",
        "colab": {
          "base_uri": "https://localhost:8080/",
          "height": 35
        },
        "outputId": "b49025f6-fc4b-4c98-a65c-3e9ca0bc69d4"
      },
      "execution_count": 70,
      "outputs": [
        {
          "output_type": "execute_result",
          "data": {
            "text/plain": [
              "'lógica'"
            ],
            "application/vnd.google.colaboratory.intrinsic+json": {
              "type": "string"
            }
          },
          "metadata": {},
          "execution_count": 70
        }
      ]
    },
    {
      "cell_type": "markdown",
      "source": [
        "# **Avaliando os Dois Corretores**"
      ],
      "metadata": {
        "id": "X8D9ybb00GPz"
      }
    },
    {
      "cell_type": "code",
      "source": [
        "def avaliador(testes, vocabulario):\n",
        "  numero_palavras = len(testes)\n",
        "  acertou = 0\n",
        "  desconhecida = 0\n",
        "  for correta, errada in testes:\n",
        "    palavra_corrigida = novo_corretor(errada)\n",
        "    desconhecida += (correta not in vocabulario)\n",
        "\n",
        "    if palavra_corrigida == correta:\n",
        "      acertou +=1\n",
        "    else:\n",
        "      print(errada + \"-\" + corretor(errada) + \"-\" + palavra_corrigida)\n",
        "\n",
        "  taxa_acerto = acertou / numero_palavras\n",
        "  taxa_acerto = round((taxa_acerto * 100), 2)\n",
        "  taxa_desconhecida = desconhecida / numero_palavras\n",
        "  taxa_desconhecida = round((taxa_desconhecida * 100), 2)\n",
        "  print(f\"{taxa_acerto}% de {numero_palavras} palavras, desconhecida é {taxa_desconhecida}%\")\n",
        "\n",
        "vocabulario = set(lista_normalizada)\n",
        "avaliador(lista_teste, vocabulario)"
      ],
      "metadata": {
        "id": "Swa5sb1QytqY",
        "colab": {
          "base_uri": "https://localhost:8080/"
        },
        "outputId": "0dc3a440-f812-4a2a-e11a-7a6535fbf54b"
      },
      "execution_count": 73,
      "outputs": [
        {
          "output_type": "stream",
          "name": "stdout",
          "text": [
            "esje-esse-se\n",
            "sãêo-são-não\n",
            "dosa-dos-do\n",
            "eme-em-de\n",
            "eàssa-essa-esse\n",
            "daõs-das-da\n",
            "céda-cada-da\n",
            "noâ-no-o\n",
            "enêão-então-não\n",
            "tĩem-tem-em\n",
            "nossah-nossa-nosso\n",
            "teb-tem-de\n",
            "atĩ-até-a\n",
            "âem-em-de\n",
            "foo-foi-o\n",
            "serr-ser-se\n",
            "entke-entre-então\n",
            "van-vai-a\n",
            "çeus-seus-seu\n",
            "eû-e-de\n",
            "temeo-tempo-temos\n",
            "semre-sempre-ser\n",
            "elaá-ela-ele\n",
            "síó-só-se\n",
            "siàe-site-se\n",
            "seém-sem-em\n",
            "peln-pelo-ele\n",
            "aléra-alura-agora\n",
            "tdia-dia-da\n",
            "tuúo-tudo-tipo\n",
            "jé-é-de\n",
            "sãô-são-não\n",
            "odos-dos-do\n",
            "siua-sua-seu\n",
            "elpe-ele-esse\n",
            "teos-temos-os\n",
            "eũsa-essa-esse\n",
            "vjmos-vamos-temos\n",
            "dms-dos-de\n",
            "cava-java-para\n",
            "ános-nos-no\n",
            "èaso-caso-as\n",
            "túem-tem-em\n",
            "daáos-dados-dos\n",
            "nossk-nosso-nosso\n",
            "tãer-ter-ser\n",
            "vté-até-é\n",
            "búm-bem-um\n",
            "sçerá-será-ser\n",
            "entró-entre-então\n",
            "uai-vai-a\n",
            "sâus-seus-seu\n",
            "ìeu-seu-de\n",
            "fual-qual-sua\n",
            "elal-ela-ele\n",
            "skó-só-se\n",
            "secm-sem-em\n",
            "aluéa-alura-além\n",
            "dil-dia-de\n",
            "sód-só-se\n",
            "eúaa-aeúaa-essa\n",
            "ró-só-de\n",
            "dĩaz-adĩaz-da\n",
            "correptor-corretor-correto\n",
            "trtica-tática-prática\n",
            "ewpoderamento-aewpoderamento-ewpoderamento\n",
            "îgato-gato-fato\n",
            "cakvalo-acakvalo-carvalho\n",
            "canelac-acanelac-janela\n",
            "tênisy-atênisy-tênisy\n",
            "anciosa-aanciosa-ansioso\n",
            "ancciosa-aancciosa-ancciosa\n",
            "ansioa-aansioa-ensina\n",
            "asterístico-aasterístico-asterístico\n",
            "entertido-aentertido-entendido\n",
            "ritimo-ritmo-ótimo\n",
            "indiota-aindiota-indica\n",
            "tomare-tomar-tomar\n",
            "seje-seja-se\n",
            "provalecer-aprovalecer-prevaleceu\n",
            "esteje-esteja-este\n",
            "mindigo-amindigo-indico\n",
            "pertubar-apertubar-derrubar\n",
            "55.38% de 186 palavras, desconhecida é 6.99%\n"
          ]
        }
      ]
    },
    {
      "cell_type": "code",
      "source": [
        "def avaliador(testes, vocabulario):\n",
        "  numero_palavras = len(testes)\n",
        "  acertou = 0\n",
        "  desconhecida = 0\n",
        "  for correta, errada in testes:\n",
        "    palavra_corrigida = corretor(errada)\n",
        "    desconhecida += (correta not in vocabulario)\n",
        "\n",
        "    if palavra_corrigida == correta:\n",
        "      acertou +=1\n",
        "\n",
        "  taxa_acerto = acertou / numero_palavras\n",
        "  taxa_acerto = round((taxa_acerto * 100), 2)\n",
        "  taxa_desconhecida = desconhecida / numero_palavras\n",
        "  taxa_desconhecida = round((taxa_desconhecida * 100), 2)\n",
        "  print(f\"{taxa_acerto}% de {numero_palavras} palavras, desconhecida é {taxa_desconhecida}%\")\n",
        "\n",
        "vocabulario = set(lista_normalizada)\n",
        "avaliador(lista_teste, vocabulario)"
      ],
      "metadata": {
        "colab": {
          "base_uri": "https://localhost:8080/"
        },
        "id": "VxI5dCVe0Vzj",
        "outputId": "31d3df37-81aa-44cd-beb8-855a4335e5dd"
      },
      "execution_count": 74,
      "outputs": [
        {
          "output_type": "stream",
          "name": "stdout",
          "text": [
            "76.34% de 186 palavras, desconhecida é 6.99%\n"
          ]
        }
      ]
    },
    {
      "cell_type": "code",
      "source": [
        "palavra = \"lgiica\"\n",
        "print(novo_corretor(palavra))\n",
        "print(corretor(palavra))"
      ],
      "metadata": {
        "colab": {
          "base_uri": "https://localhost:8080/"
        },
        "id": "CElhxWP81dah",
        "outputId": "05156c9a-3ed6-4405-ef69-9438f51b574a"
      },
      "execution_count": 78,
      "outputs": [
        {
          "output_type": "stream",
          "name": "stdout",
          "text": [
            "lógica\n",
            "algiica\n"
          ]
        }
      ]
    },
    {
      "cell_type": "code",
      "source": [],
      "metadata": {
        "id": "41A62KKA1tnT"
      },
      "execution_count": null,
      "outputs": []
    }
  ]
}